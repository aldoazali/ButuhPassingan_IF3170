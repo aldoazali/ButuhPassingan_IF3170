{
 "cells": [
  {
   "cell_type": "markdown",
   "metadata": {},
   "source": [
    "# Tugas Besar 2 IF3170 - Intelegensi Buatan\n",
    "## Kelompok Butuh Passingan\n",
    "### Nama Anggota :\n",
    "1. Andreas Halim - 13516003\n",
    "2. Aldo Azali - 13516125\n",
    "3. Untung Tanujaya - 13516135\n",
    "4. Dafi Faraz - 13516XXX\n",
    "5. Jeffry - 13516156"
   ]
  },
  {
   "cell_type": "code",
   "execution_count": 1,
   "metadata": {},
   "outputs": [],
   "source": [
    "import numpy as np\n",
    "import pandas as pd\n",
    "import seaborn as sns\n",
    "import matplotlib.pyplot as plt\n",
    "%matplotlib inline"
   ]
  },
  {
   "cell_type": "code",
   "execution_count": 2,
   "metadata": {},
   "outputs": [
    {
     "data": {
      "text/plain": [
       "(779, 14)"
      ]
     },
     "execution_count": 2,
     "metadata": {},
     "output_type": "execute_result"
    }
   ],
   "source": [
    "df = pd.read_csv('tubes2_HeartDisease_train.csv', na_values='?')\n",
    "dg = pd.read_csv('tubes2_HeartDisease_test.csv', na_values='?')\n",
    "df.shape"
   ]
  },
  {
   "cell_type": "code",
   "execution_count": 3,
   "metadata": {},
   "outputs": [
    {
     "data": {
      "text/html": [
       "<div>\n",
       "<style scoped>\n",
       "    .dataframe tbody tr th:only-of-type {\n",
       "        vertical-align: middle;\n",
       "    }\n",
       "\n",
       "    .dataframe tbody tr th {\n",
       "        vertical-align: top;\n",
       "    }\n",
       "\n",
       "    .dataframe thead th {\n",
       "        text-align: right;\n",
       "    }\n",
       "</style>\n",
       "<table border=\"1\" class=\"dataframe\">\n",
       "  <thead>\n",
       "    <tr style=\"text-align: right;\">\n",
       "      <th></th>\n",
       "      <th>Column1</th>\n",
       "      <th>Column2</th>\n",
       "      <th>Column3</th>\n",
       "      <th>Column4</th>\n",
       "      <th>Column5</th>\n",
       "      <th>Column6</th>\n",
       "      <th>Column7</th>\n",
       "      <th>Column8</th>\n",
       "      <th>Column9</th>\n",
       "      <th>Column10</th>\n",
       "      <th>Column11</th>\n",
       "      <th>Column12</th>\n",
       "      <th>Column13</th>\n",
       "      <th>Column14</th>\n",
       "    </tr>\n",
       "  </thead>\n",
       "  <tbody>\n",
       "    <tr>\n",
       "      <th>0</th>\n",
       "      <td>54</td>\n",
       "      <td>1</td>\n",
       "      <td>4</td>\n",
       "      <td>125.0</td>\n",
       "      <td>216.0</td>\n",
       "      <td>0.0</td>\n",
       "      <td>0.0</td>\n",
       "      <td>140.0</td>\n",
       "      <td>0.0</td>\n",
       "      <td>0.0</td>\n",
       "      <td>NaN</td>\n",
       "      <td>NaN</td>\n",
       "      <td>NaN</td>\n",
       "      <td>1</td>\n",
       "    </tr>\n",
       "    <tr>\n",
       "      <th>1</th>\n",
       "      <td>55</td>\n",
       "      <td>1</td>\n",
       "      <td>4</td>\n",
       "      <td>158.0</td>\n",
       "      <td>217.0</td>\n",
       "      <td>0.0</td>\n",
       "      <td>0.0</td>\n",
       "      <td>110.0</td>\n",
       "      <td>1.0</td>\n",
       "      <td>2.5</td>\n",
       "      <td>2.0</td>\n",
       "      <td>NaN</td>\n",
       "      <td>NaN</td>\n",
       "      <td>1</td>\n",
       "    </tr>\n",
       "    <tr>\n",
       "      <th>2</th>\n",
       "      <td>54</td>\n",
       "      <td>0</td>\n",
       "      <td>3</td>\n",
       "      <td>135.0</td>\n",
       "      <td>304.0</td>\n",
       "      <td>1.0</td>\n",
       "      <td>0.0</td>\n",
       "      <td>170.0</td>\n",
       "      <td>0.0</td>\n",
       "      <td>0.0</td>\n",
       "      <td>1.0</td>\n",
       "      <td>0.0</td>\n",
       "      <td>3.0</td>\n",
       "      <td>0</td>\n",
       "    </tr>\n",
       "    <tr>\n",
       "      <th>3</th>\n",
       "      <td>48</td>\n",
       "      <td>0</td>\n",
       "      <td>3</td>\n",
       "      <td>120.0</td>\n",
       "      <td>195.0</td>\n",
       "      <td>0.0</td>\n",
       "      <td>0.0</td>\n",
       "      <td>125.0</td>\n",
       "      <td>0.0</td>\n",
       "      <td>0.0</td>\n",
       "      <td>NaN</td>\n",
       "      <td>NaN</td>\n",
       "      <td>NaN</td>\n",
       "      <td>0</td>\n",
       "    </tr>\n",
       "    <tr>\n",
       "      <th>4</th>\n",
       "      <td>50</td>\n",
       "      <td>1</td>\n",
       "      <td>4</td>\n",
       "      <td>120.0</td>\n",
       "      <td>0.0</td>\n",
       "      <td>0.0</td>\n",
       "      <td>1.0</td>\n",
       "      <td>156.0</td>\n",
       "      <td>1.0</td>\n",
       "      <td>0.0</td>\n",
       "      <td>1.0</td>\n",
       "      <td>NaN</td>\n",
       "      <td>6.0</td>\n",
       "      <td>3</td>\n",
       "    </tr>\n",
       "  </tbody>\n",
       "</table>\n",
       "</div>"
      ],
      "text/plain": [
       "   Column1  Column2  Column3  Column4  Column5  Column6  Column7  Column8  \\\n",
       "0       54        1        4    125.0    216.0      0.0      0.0    140.0   \n",
       "1       55        1        4    158.0    217.0      0.0      0.0    110.0   \n",
       "2       54        0        3    135.0    304.0      1.0      0.0    170.0   \n",
       "3       48        0        3    120.0    195.0      0.0      0.0    125.0   \n",
       "4       50        1        4    120.0      0.0      0.0      1.0    156.0   \n",
       "\n",
       "   Column9  Column10  Column11  Column12  Column13  Column14  \n",
       "0      0.0       0.0       NaN       NaN       NaN         1  \n",
       "1      1.0       2.5       2.0       NaN       NaN         1  \n",
       "2      0.0       0.0       1.0       0.0       3.0         0  \n",
       "3      0.0       0.0       NaN       NaN       NaN         0  \n",
       "4      1.0       0.0       1.0       NaN       6.0         3  "
      ]
     },
     "execution_count": 3,
     "metadata": {},
     "output_type": "execute_result"
    }
   ],
   "source": [
    "df.head()"
   ]
  },
  {
   "cell_type": "code",
   "execution_count": 4,
   "metadata": {},
   "outputs": [],
   "source": [
    "df.columns = ['Age', 'Sex', 'Chest-Pain_Type', 'Resting_Blood_Pressure', 'Serum_Cholestrol', 'Fasting_Blood_Sugar_120',\n",
    "       'resting_ECG', 'Max-Heart_Rate_Achieved', 'Exercise_Induced_Angina', 'ST_Depression', 'Peak_Exercise', 'Number_Major_Vessels',\n",
    "       'Thal', 'Diagnosis_HD']\n",
    "dg.columns = ['Age', 'Sex', 'Chest-Pain_Type', 'Resting_Blood_Pressure', 'Serum_Cholestrol', 'Fasting_Blood_Sugar_120',\n",
    "       'resting_ECG', 'Max-Heart_Rate_Achieved', 'Exercise_Induced_Angina', 'ST_Depression', 'Peak_Exercise', 'Number_Major_Vessels',\n",
    "       'Thal']"
   ]
  },
  {
   "cell_type": "code",
   "execution_count": 5,
   "metadata": {},
   "outputs": [
    {
     "data": {
      "text/html": [
       "<div>\n",
       "<style scoped>\n",
       "    .dataframe tbody tr th:only-of-type {\n",
       "        vertical-align: middle;\n",
       "    }\n",
       "\n",
       "    .dataframe tbody tr th {\n",
       "        vertical-align: top;\n",
       "    }\n",
       "\n",
       "    .dataframe thead th {\n",
       "        text-align: right;\n",
       "    }\n",
       "</style>\n",
       "<table border=\"1\" class=\"dataframe\">\n",
       "  <thead>\n",
       "    <tr style=\"text-align: right;\">\n",
       "      <th></th>\n",
       "      <th>Age</th>\n",
       "      <th>Sex</th>\n",
       "      <th>Chest-Pain_Type</th>\n",
       "      <th>Resting_Blood_Pressure</th>\n",
       "      <th>Serum_Cholestrol</th>\n",
       "      <th>Fasting_Blood_Sugar_120</th>\n",
       "      <th>resting_ECG</th>\n",
       "      <th>Max-Heart_Rate_Achieved</th>\n",
       "      <th>Exercise_Induced_Angina</th>\n",
       "      <th>ST_Depression</th>\n",
       "      <th>Peak_Exercise</th>\n",
       "      <th>Number_Major_Vessels</th>\n",
       "      <th>Thal</th>\n",
       "    </tr>\n",
       "  </thead>\n",
       "  <tbody>\n",
       "    <tr>\n",
       "      <th>0</th>\n",
       "      <td>60</td>\n",
       "      <td>1</td>\n",
       "      <td>2</td>\n",
       "      <td>160.0</td>\n",
       "      <td>267.0</td>\n",
       "      <td>1.0</td>\n",
       "      <td>1</td>\n",
       "      <td>157.0</td>\n",
       "      <td>0.0</td>\n",
       "      <td>0.5</td>\n",
       "      <td>2.0</td>\n",
       "      <td>NaN</td>\n",
       "      <td>NaN</td>\n",
       "    </tr>\n",
       "    <tr>\n",
       "      <th>1</th>\n",
       "      <td>61</td>\n",
       "      <td>1</td>\n",
       "      <td>4</td>\n",
       "      <td>148.0</td>\n",
       "      <td>203.0</td>\n",
       "      <td>0.0</td>\n",
       "      <td>0</td>\n",
       "      <td>161.0</td>\n",
       "      <td>0.0</td>\n",
       "      <td>0.0</td>\n",
       "      <td>1.0</td>\n",
       "      <td>1.0</td>\n",
       "      <td>7.0</td>\n",
       "    </tr>\n",
       "    <tr>\n",
       "      <th>2</th>\n",
       "      <td>54</td>\n",
       "      <td>1</td>\n",
       "      <td>4</td>\n",
       "      <td>130.0</td>\n",
       "      <td>242.0</td>\n",
       "      <td>0.0</td>\n",
       "      <td>0</td>\n",
       "      <td>91.0</td>\n",
       "      <td>1.0</td>\n",
       "      <td>1.0</td>\n",
       "      <td>2.0</td>\n",
       "      <td>NaN</td>\n",
       "      <td>NaN</td>\n",
       "    </tr>\n",
       "    <tr>\n",
       "      <th>3</th>\n",
       "      <td>48</td>\n",
       "      <td>1</td>\n",
       "      <td>4</td>\n",
       "      <td>120.0</td>\n",
       "      <td>260.0</td>\n",
       "      <td>0.0</td>\n",
       "      <td>0</td>\n",
       "      <td>115.0</td>\n",
       "      <td>0.0</td>\n",
       "      <td>2.0</td>\n",
       "      <td>2.0</td>\n",
       "      <td>NaN</td>\n",
       "      <td>NaN</td>\n",
       "    </tr>\n",
       "    <tr>\n",
       "      <th>4</th>\n",
       "      <td>57</td>\n",
       "      <td>0</td>\n",
       "      <td>1</td>\n",
       "      <td>130.0</td>\n",
       "      <td>308.0</td>\n",
       "      <td>0.0</td>\n",
       "      <td>0</td>\n",
       "      <td>98.0</td>\n",
       "      <td>0.0</td>\n",
       "      <td>1.0</td>\n",
       "      <td>2.0</td>\n",
       "      <td>NaN</td>\n",
       "      <td>NaN</td>\n",
       "    </tr>\n",
       "  </tbody>\n",
       "</table>\n",
       "</div>"
      ],
      "text/plain": [
       "   Age  Sex  Chest-Pain_Type  Resting_Blood_Pressure  Serum_Cholestrol  \\\n",
       "0   60    1                2                   160.0             267.0   \n",
       "1   61    1                4                   148.0             203.0   \n",
       "2   54    1                4                   130.0             242.0   \n",
       "3   48    1                4                   120.0             260.0   \n",
       "4   57    0                1                   130.0             308.0   \n",
       "\n",
       "   Fasting_Blood_Sugar_120  resting_ECG  Max-Heart_Rate_Achieved  \\\n",
       "0                      1.0            1                    157.0   \n",
       "1                      0.0            0                    161.0   \n",
       "2                      0.0            0                     91.0   \n",
       "3                      0.0            0                    115.0   \n",
       "4                      0.0            0                     98.0   \n",
       "\n",
       "   Exercise_Induced_Angina  ST_Depression  Peak_Exercise  \\\n",
       "0                      0.0            0.5            2.0   \n",
       "1                      0.0            0.0            1.0   \n",
       "2                      1.0            1.0            2.0   \n",
       "3                      0.0            2.0            2.0   \n",
       "4                      0.0            1.0            2.0   \n",
       "\n",
       "   Number_Major_Vessels  Thal  \n",
       "0                   NaN   NaN  \n",
       "1                   1.0   7.0  \n",
       "2                   NaN   NaN  \n",
       "3                   NaN   NaN  \n",
       "4                   NaN   NaN  "
      ]
     },
     "execution_count": 5,
     "metadata": {},
     "output_type": "execute_result"
    }
   ],
   "source": [
    "dg.head()"
   ]
  },
  {
   "cell_type": "markdown",
   "metadata": {},
   "source": [
    "## Data Preprocessing"
   ]
  },
  {
   "cell_type": "markdown",
   "metadata": {},
   "source": [
    "### Check Null Values\n",
    "If there is null values, then change it to :\n",
    "1. Median\n",
    "2. dummy value (ex : 'Empty' OR '?')\n",
    "3. mode"
   ]
  },
  {
   "cell_type": "code",
   "execution_count": 6,
   "metadata": {},
   "outputs": [],
   "source": [
    "# NaN data to Median\n",
    "# from sklearn.preprocessing import Imputer\n",
    "# imputer = Imputer(strategy='median')\n",
    "# pd.DataFrame(imputer.fit_transform(df), columns=df.columns)"
   ]
  },
  {
   "cell_type": "code",
   "execution_count": 7,
   "metadata": {},
   "outputs": [
    {
     "data": {
      "text/plain": [
       "Age                          0\n",
       "Sex                          0\n",
       "Chest-Pain_Type              0\n",
       "Resting_Blood_Pressure      47\n",
       "Serum_Cholestrol            24\n",
       "Fasting_Blood_Sugar_120     78\n",
       "resting_ECG                  2\n",
       "Max-Heart_Rate_Achieved     44\n",
       "Exercise_Induced_Angina     44\n",
       "ST_Depression               49\n",
       "Peak_Exercise              262\n",
       "Number_Major_Vessels       514\n",
       "Thal                       408\n",
       "Diagnosis_HD                 0\n",
       "dtype: int64"
      ]
     },
     "execution_count": 7,
     "metadata": {},
     "output_type": "execute_result"
    }
   ],
   "source": [
    "df.isnull().sum()"
   ]
  },
  {
   "cell_type": "code",
   "execution_count": 8,
   "metadata": {},
   "outputs": [],
   "source": [
    "# RBP, SC, MHRA, STD,  = median\n",
    "# FBS, ecg, EIA, pe, NMV, thal = mode\n",
    "# fbs, ECG , eia, PE,nmv, THAL = 'Empty'\n",
    "rbp_med = df['Resting_Blood_Pressure'].median()\n",
    "sc_med = df['Serum_Cholestrol'].median()\n",
    "mhra_med = df['Max-Heart_Rate_Achieved'].median()\n",
    "std_med = df['ST_Depression'].median()\n",
    "# fbs_mod = df['Fasting_Blood_Sugar_120'].mode()\n",
    "# ecg_mod = df['resting_ECG '].mode()\n",
    "# eia_mod = df['Exercise_Induced_Angina'].mode()\n",
    "# pe_mod = df['Peak_Exercise'].mode()\n",
    "# nmv_mod = df['Number_Major_Vessels'].mode()\n",
    "# thal_mod = df['Thal'].mode()"
   ]
  },
  {
   "cell_type": "code",
   "execution_count": 9,
   "metadata": {},
   "outputs": [],
   "source": [
    "# Fill with median\n",
    "df['Resting_Blood_Pressure'] = df['Resting_Blood_Pressure'].fillna(rbp_med)\n",
    "df['Serum_Cholestrol'] = df['Serum_Cholestrol'].fillna(sc_med)\n",
    "df['Max-Heart_Rate_Achieved'] = df['Max-Heart_Rate_Achieved'].fillna(mhra_med)\n",
    "df['ST_Depression'] = df['ST_Depression'].fillna(std_med)\n",
    "# Others Fill with '?'\n",
    "df = df.fillna('?')"
   ]
  },
  {
   "cell_type": "code",
   "execution_count": 10,
   "metadata": {},
   "outputs": [],
   "source": [
    "rbp_medg = dg['Resting_Blood_Pressure'].median()\n",
    "sc_medg = dg['Serum_Cholestrol'].median()\n",
    "mhra_medg = dg['Max-Heart_Rate_Achieved'].median()\n",
    "std_medg = dg['ST_Depression'].median()"
   ]
  },
  {
   "cell_type": "code",
   "execution_count": 11,
   "metadata": {},
   "outputs": [],
   "source": [
    "# Fill with median\n",
    "dg['Resting_Blood_Pressure'] = dg['Resting_Blood_Pressure'].fillna(rbp_medg)\n",
    "dg['Serum_Cholestrol'] = dg['Serum_Cholestrol'].fillna(sc_medg)\n",
    "dg['Max-Heart_Rate_Achieved'] = dg['Max-Heart_Rate_Achieved'].fillna(mhra_medg)\n",
    "dg['ST_Depression'] = dg['ST_Depression'].fillna(std_medg)\n",
    "# Others Fill with '?'\n",
    "dg = dg.fillna('?')"
   ]
  },
  {
   "cell_type": "code",
   "execution_count": 12,
   "metadata": {},
   "outputs": [
    {
     "data": {
      "text/plain": [
       "Age                        0\n",
       "Sex                        0\n",
       "Chest-Pain_Type            0\n",
       "Resting_Blood_Pressure     0\n",
       "Serum_Cholestrol           0\n",
       "Fasting_Blood_Sugar_120    0\n",
       "resting_ECG                0\n",
       "Max-Heart_Rate_Achieved    0\n",
       "Exercise_Induced_Angina    0\n",
       "ST_Depression              0\n",
       "Peak_Exercise              0\n",
       "Number_Major_Vessels       0\n",
       "Thal                       0\n",
       "dtype: int64"
      ]
     },
     "execution_count": 12,
     "metadata": {},
     "output_type": "execute_result"
    }
   ],
   "source": [
    "dg.isnull().sum()"
   ]
  },
  {
   "cell_type": "markdown",
   "metadata": {},
   "source": [
    "### Create Data Split Train and Data Split Test(90:10)"
   ]
  },
  {
   "cell_type": "code",
   "execution_count": 13,
   "metadata": {},
   "outputs": [],
   "source": [
    "from scipy.stats import ttest_ind"
   ]
  },
  {
   "cell_type": "code",
   "execution_count": 14,
   "metadata": {},
   "outputs": [],
   "source": [
    "y_train = df['Diagnosis_HD']  # yang ingin diprediksi\n",
    "X_train = df.drop(['Diagnosis_HD'], axis = 1)"
   ]
  },
  {
   "cell_type": "code",
   "execution_count": 15,
   "metadata": {},
   "outputs": [
    {
     "data": {
      "text/html": [
       "<div>\n",
       "<style scoped>\n",
       "    .dataframe tbody tr th:only-of-type {\n",
       "        vertical-align: middle;\n",
       "    }\n",
       "\n",
       "    .dataframe tbody tr th {\n",
       "        vertical-align: top;\n",
       "    }\n",
       "\n",
       "    .dataframe thead th {\n",
       "        text-align: right;\n",
       "    }\n",
       "</style>\n",
       "<table border=\"1\" class=\"dataframe\">\n",
       "  <thead>\n",
       "    <tr style=\"text-align: right;\">\n",
       "      <th></th>\n",
       "      <th>Age</th>\n",
       "      <th>Sex</th>\n",
       "      <th>Chest-Pain_Type</th>\n",
       "      <th>Resting_Blood_Pressure</th>\n",
       "      <th>Serum_Cholestrol</th>\n",
       "      <th>Fasting_Blood_Sugar_120</th>\n",
       "      <th>resting_ECG</th>\n",
       "      <th>Max-Heart_Rate_Achieved</th>\n",
       "      <th>Exercise_Induced_Angina</th>\n",
       "      <th>ST_Depression</th>\n",
       "      <th>Peak_Exercise</th>\n",
       "      <th>Number_Major_Vessels</th>\n",
       "      <th>Thal</th>\n",
       "    </tr>\n",
       "  </thead>\n",
       "  <tbody>\n",
       "    <tr>\n",
       "      <th>560</th>\n",
       "      <td>37</td>\n",
       "      <td>0</td>\n",
       "      <td>3</td>\n",
       "      <td>130.0</td>\n",
       "      <td>211.0</td>\n",
       "      <td>0</td>\n",
       "      <td>0</td>\n",
       "      <td>142.0</td>\n",
       "      <td>0</td>\n",
       "      <td>0.0</td>\n",
       "      <td>?</td>\n",
       "      <td>?</td>\n",
       "      <td>?</td>\n",
       "    </tr>\n",
       "    <tr>\n",
       "      <th>526</th>\n",
       "      <td>71</td>\n",
       "      <td>1</td>\n",
       "      <td>4</td>\n",
       "      <td>130.0</td>\n",
       "      <td>221.0</td>\n",
       "      <td>0</td>\n",
       "      <td>1</td>\n",
       "      <td>115.0</td>\n",
       "      <td>1</td>\n",
       "      <td>0.0</td>\n",
       "      <td>?</td>\n",
       "      <td>?</td>\n",
       "      <td>?</td>\n",
       "    </tr>\n",
       "    <tr>\n",
       "      <th>521</th>\n",
       "      <td>52</td>\n",
       "      <td>1</td>\n",
       "      <td>4</td>\n",
       "      <td>135.0</td>\n",
       "      <td>0.0</td>\n",
       "      <td>?</td>\n",
       "      <td>0</td>\n",
       "      <td>128.0</td>\n",
       "      <td>1</td>\n",
       "      <td>2.0</td>\n",
       "      <td>2</td>\n",
       "      <td>?</td>\n",
       "      <td>7</td>\n",
       "    </tr>\n",
       "    <tr>\n",
       "      <th>317</th>\n",
       "      <td>53</td>\n",
       "      <td>0</td>\n",
       "      <td>4</td>\n",
       "      <td>130.0</td>\n",
       "      <td>264.0</td>\n",
       "      <td>0</td>\n",
       "      <td>2</td>\n",
       "      <td>143.0</td>\n",
       "      <td>0</td>\n",
       "      <td>4.0</td>\n",
       "      <td>2</td>\n",
       "      <td>0</td>\n",
       "      <td>3</td>\n",
       "    </tr>\n",
       "    <tr>\n",
       "      <th>31</th>\n",
       "      <td>58</td>\n",
       "      <td>0</td>\n",
       "      <td>4</td>\n",
       "      <td>100.0</td>\n",
       "      <td>248.0</td>\n",
       "      <td>0</td>\n",
       "      <td>2</td>\n",
       "      <td>122.0</td>\n",
       "      <td>0</td>\n",
       "      <td>1.0</td>\n",
       "      <td>2</td>\n",
       "      <td>0</td>\n",
       "      <td>3</td>\n",
       "    </tr>\n",
       "  </tbody>\n",
       "</table>\n",
       "</div>"
      ],
      "text/plain": [
       "     Age  Sex  Chest-Pain_Type  Resting_Blood_Pressure  Serum_Cholestrol  \\\n",
       "560   37    0                3                   130.0             211.0   \n",
       "526   71    1                4                   130.0             221.0   \n",
       "521   52    1                4                   135.0               0.0   \n",
       "317   53    0                4                   130.0             264.0   \n",
       "31    58    0                4                   100.0             248.0   \n",
       "\n",
       "    Fasting_Blood_Sugar_120 resting_ECG  Max-Heart_Rate_Achieved  \\\n",
       "560                       0           0                    142.0   \n",
       "526                       0           1                    115.0   \n",
       "521                       ?           0                    128.0   \n",
       "317                       0           2                    143.0   \n",
       "31                        0           2                    122.0   \n",
       "\n",
       "    Exercise_Induced_Angina  ST_Depression Peak_Exercise Number_Major_Vessels  \\\n",
       "560                       0            0.0             ?                    ?   \n",
       "526                       1            0.0             ?                    ?   \n",
       "521                       1            2.0             2                    ?   \n",
       "317                       0            4.0             2                    0   \n",
       "31                        0            1.0             2                    0   \n",
       "\n",
       "    Thal  \n",
       "560    ?  \n",
       "526    ?  \n",
       "521    7  \n",
       "317    3  \n",
       "31     3  "
      ]
     },
     "execution_count": 15,
     "metadata": {},
     "output_type": "execute_result"
    }
   ],
   "source": [
    "from sklearn.model_selection import train_test_split\n",
    "X_train_split, X_test_split, y_train_split, y_test_split = train_test_split(X_train, y_train, test_size = 0.25, random_state=123)\n",
    "X_train_split.head()"
   ]
  },
  {
   "cell_type": "code",
   "execution_count": 16,
   "metadata": {},
   "outputs": [
    {
     "data": {
      "text/plain": [
       "560    0\n",
       "526    3\n",
       "521    2\n",
       "317    0\n",
       "31     0\n",
       "Name: Diagnosis_HD, dtype: int64"
      ]
     },
     "execution_count": 16,
     "metadata": {},
     "output_type": "execute_result"
    }
   ],
   "source": [
    "y_train_split.head()"
   ]
  },
  {
   "cell_type": "markdown",
   "metadata": {},
   "source": [
    "### Create Data Full Train and Data Test"
   ]
  },
  {
   "cell_type": "code",
   "execution_count": 17,
   "metadata": {},
   "outputs": [],
   "source": [
    "#TBD"
   ]
  },
  {
   "cell_type": "markdown",
   "metadata": {},
   "source": [
    "## Data Processing"
   ]
  },
  {
   "cell_type": "markdown",
   "metadata": {},
   "source": [
    "### Feature Engineering"
   ]
  },
  {
   "cell_type": "code",
   "execution_count": 18,
   "metadata": {},
   "outputs": [],
   "source": [
    "# TBD"
   ]
  },
  {
   "cell_type": "markdown",
   "metadata": {},
   "source": [
    "### Make Dummies"
   ]
  },
  {
   "cell_type": "code",
   "execution_count": 19,
   "metadata": {},
   "outputs": [],
   "source": [
    "X_train_split = pd.get_dummies(X_train_split)\n",
    "X_test_split = pd.get_dummies(X_test_split)"
   ]
  },
  {
   "cell_type": "code",
   "execution_count": 20,
   "metadata": {},
   "outputs": [
    {
     "data": {
      "text/html": [
       "<div>\n",
       "<style scoped>\n",
       "    .dataframe tbody tr th:only-of-type {\n",
       "        vertical-align: middle;\n",
       "    }\n",
       "\n",
       "    .dataframe tbody tr th {\n",
       "        vertical-align: top;\n",
       "    }\n",
       "\n",
       "    .dataframe thead th {\n",
       "        text-align: right;\n",
       "    }\n",
       "</style>\n",
       "<table border=\"1\" class=\"dataframe\">\n",
       "  <thead>\n",
       "    <tr style=\"text-align: right;\">\n",
       "      <th></th>\n",
       "      <th>Age</th>\n",
       "      <th>Sex</th>\n",
       "      <th>Chest-Pain_Type</th>\n",
       "      <th>Resting_Blood_Pressure</th>\n",
       "      <th>Serum_Cholestrol</th>\n",
       "      <th>Max-Heart_Rate_Achieved</th>\n",
       "      <th>ST_Depression</th>\n",
       "      <th>Fasting_Blood_Sugar_120_0.0</th>\n",
       "      <th>Fasting_Blood_Sugar_120_1.0</th>\n",
       "      <th>Fasting_Blood_Sugar_120_?</th>\n",
       "      <th>...</th>\n",
       "      <th>Peak_Exercise_?</th>\n",
       "      <th>Number_Major_Vessels_0.0</th>\n",
       "      <th>Number_Major_Vessels_1.0</th>\n",
       "      <th>Number_Major_Vessels_2.0</th>\n",
       "      <th>Number_Major_Vessels_3.0</th>\n",
       "      <th>Number_Major_Vessels_?</th>\n",
       "      <th>Thal_3.0</th>\n",
       "      <th>Thal_6.0</th>\n",
       "      <th>Thal_7.0</th>\n",
       "      <th>Thal_?</th>\n",
       "    </tr>\n",
       "  </thead>\n",
       "  <tbody>\n",
       "    <tr>\n",
       "      <th>560</th>\n",
       "      <td>37</td>\n",
       "      <td>0</td>\n",
       "      <td>3</td>\n",
       "      <td>130.0</td>\n",
       "      <td>211.0</td>\n",
       "      <td>142.0</td>\n",
       "      <td>0.0</td>\n",
       "      <td>1</td>\n",
       "      <td>0</td>\n",
       "      <td>0</td>\n",
       "      <td>...</td>\n",
       "      <td>1</td>\n",
       "      <td>0</td>\n",
       "      <td>0</td>\n",
       "      <td>0</td>\n",
       "      <td>0</td>\n",
       "      <td>1</td>\n",
       "      <td>0</td>\n",
       "      <td>0</td>\n",
       "      <td>0</td>\n",
       "      <td>1</td>\n",
       "    </tr>\n",
       "    <tr>\n",
       "      <th>526</th>\n",
       "      <td>71</td>\n",
       "      <td>1</td>\n",
       "      <td>4</td>\n",
       "      <td>130.0</td>\n",
       "      <td>221.0</td>\n",
       "      <td>115.0</td>\n",
       "      <td>0.0</td>\n",
       "      <td>1</td>\n",
       "      <td>0</td>\n",
       "      <td>0</td>\n",
       "      <td>...</td>\n",
       "      <td>1</td>\n",
       "      <td>0</td>\n",
       "      <td>0</td>\n",
       "      <td>0</td>\n",
       "      <td>0</td>\n",
       "      <td>1</td>\n",
       "      <td>0</td>\n",
       "      <td>0</td>\n",
       "      <td>0</td>\n",
       "      <td>1</td>\n",
       "    </tr>\n",
       "    <tr>\n",
       "      <th>521</th>\n",
       "      <td>52</td>\n",
       "      <td>1</td>\n",
       "      <td>4</td>\n",
       "      <td>135.0</td>\n",
       "      <td>0.0</td>\n",
       "      <td>128.0</td>\n",
       "      <td>2.0</td>\n",
       "      <td>0</td>\n",
       "      <td>0</td>\n",
       "      <td>1</td>\n",
       "      <td>...</td>\n",
       "      <td>0</td>\n",
       "      <td>0</td>\n",
       "      <td>0</td>\n",
       "      <td>0</td>\n",
       "      <td>0</td>\n",
       "      <td>1</td>\n",
       "      <td>0</td>\n",
       "      <td>0</td>\n",
       "      <td>1</td>\n",
       "      <td>0</td>\n",
       "    </tr>\n",
       "    <tr>\n",
       "      <th>317</th>\n",
       "      <td>53</td>\n",
       "      <td>0</td>\n",
       "      <td>4</td>\n",
       "      <td>130.0</td>\n",
       "      <td>264.0</td>\n",
       "      <td>143.0</td>\n",
       "      <td>4.0</td>\n",
       "      <td>1</td>\n",
       "      <td>0</td>\n",
       "      <td>0</td>\n",
       "      <td>...</td>\n",
       "      <td>0</td>\n",
       "      <td>1</td>\n",
       "      <td>0</td>\n",
       "      <td>0</td>\n",
       "      <td>0</td>\n",
       "      <td>0</td>\n",
       "      <td>1</td>\n",
       "      <td>0</td>\n",
       "      <td>0</td>\n",
       "      <td>0</td>\n",
       "    </tr>\n",
       "    <tr>\n",
       "      <th>31</th>\n",
       "      <td>58</td>\n",
       "      <td>0</td>\n",
       "      <td>4</td>\n",
       "      <td>100.0</td>\n",
       "      <td>248.0</td>\n",
       "      <td>122.0</td>\n",
       "      <td>1.0</td>\n",
       "      <td>1</td>\n",
       "      <td>0</td>\n",
       "      <td>0</td>\n",
       "      <td>...</td>\n",
       "      <td>0</td>\n",
       "      <td>1</td>\n",
       "      <td>0</td>\n",
       "      <td>0</td>\n",
       "      <td>0</td>\n",
       "      <td>0</td>\n",
       "      <td>1</td>\n",
       "      <td>0</td>\n",
       "      <td>0</td>\n",
       "      <td>0</td>\n",
       "    </tr>\n",
       "  </tbody>\n",
       "</table>\n",
       "<p>5 rows × 30 columns</p>\n",
       "</div>"
      ],
      "text/plain": [
       "     Age  Sex  Chest-Pain_Type  Resting_Blood_Pressure  Serum_Cholestrol  \\\n",
       "560   37    0                3                   130.0             211.0   \n",
       "526   71    1                4                   130.0             221.0   \n",
       "521   52    1                4                   135.0               0.0   \n",
       "317   53    0                4                   130.0             264.0   \n",
       "31    58    0                4                   100.0             248.0   \n",
       "\n",
       "     Max-Heart_Rate_Achieved  ST_Depression  Fasting_Blood_Sugar_120_0.0  \\\n",
       "560                    142.0            0.0                            1   \n",
       "526                    115.0            0.0                            1   \n",
       "521                    128.0            2.0                            0   \n",
       "317                    143.0            4.0                            1   \n",
       "31                     122.0            1.0                            1   \n",
       "\n",
       "     Fasting_Blood_Sugar_120_1.0  Fasting_Blood_Sugar_120_?   ...    \\\n",
       "560                            0                          0   ...     \n",
       "526                            0                          0   ...     \n",
       "521                            0                          1   ...     \n",
       "317                            0                          0   ...     \n",
       "31                             0                          0   ...     \n",
       "\n",
       "     Peak_Exercise_?  Number_Major_Vessels_0.0  Number_Major_Vessels_1.0  \\\n",
       "560                1                         0                         0   \n",
       "526                1                         0                         0   \n",
       "521                0                         0                         0   \n",
       "317                0                         1                         0   \n",
       "31                 0                         1                         0   \n",
       "\n",
       "     Number_Major_Vessels_2.0  Number_Major_Vessels_3.0  \\\n",
       "560                         0                         0   \n",
       "526                         0                         0   \n",
       "521                         0                         0   \n",
       "317                         0                         0   \n",
       "31                          0                         0   \n",
       "\n",
       "     Number_Major_Vessels_?  Thal_3.0  Thal_6.0  Thal_7.0  Thal_?  \n",
       "560                       1         0         0         0       1  \n",
       "526                       1         0         0         0       1  \n",
       "521                       1         0         0         1       0  \n",
       "317                       0         1         0         0       0  \n",
       "31                        0         1         0         0       0  \n",
       "\n",
       "[5 rows x 30 columns]"
      ]
     },
     "execution_count": 20,
     "metadata": {},
     "output_type": "execute_result"
    }
   ],
   "source": [
    "X_train_split.head()"
   ]
  },
  {
   "cell_type": "code",
   "execution_count": 21,
   "metadata": {},
   "outputs": [
    {
     "name": "stdout",
     "output_type": "stream",
     "text": [
      "['resting_ECG_?']\n",
      "[]\n"
     ]
    }
   ],
   "source": [
    "null_in_test = list(set(X_train_split.columns) - set(X_test_split.columns))\n",
    "null_in_train = list(set(X_test_split.columns) - set(X_train_split.columns))\n",
    "print(null_in_test)\n",
    "print(null_in_train)"
   ]
  },
  {
   "cell_type": "code",
   "execution_count": 22,
   "metadata": {},
   "outputs": [],
   "source": [
    "for col in null_in_test:\n",
    "    X_test_split[col] = 0"
   ]
  },
  {
   "cell_type": "code",
   "execution_count": 23,
   "metadata": {},
   "outputs": [
    {
     "name": "stdout",
     "output_type": "stream",
     "text": [
      "[]\n",
      "[]\n"
     ]
    }
   ],
   "source": [
    "null_in_test = list(set(X_train_split.columns) - set(X_test_split.columns))\n",
    "null_in_train = list(set(X_test_split.columns) - set(X_train_split.columns))\n",
    "print(null_in_test)\n",
    "print(null_in_train)"
   ]
  },
  {
   "cell_type": "markdown",
   "metadata": {},
   "source": [
    "### Modeling with ML"
   ]
  },
  {
   "cell_type": "code",
   "execution_count": 24,
   "metadata": {},
   "outputs": [],
   "source": [
    "from sklearn.metrics import accuracy_score"
   ]
  },
  {
   "cell_type": "markdown",
   "metadata": {},
   "source": [
    "#### KNN (K Nearest Neighbors)"
   ]
  },
  {
   "cell_type": "code",
   "execution_count": 25,
   "metadata": {},
   "outputs": [],
   "source": [
    "from sklearn.neighbors import KNeighborsClassifier"
   ]
  },
  {
   "cell_type": "code",
   "execution_count": 26,
   "metadata": {},
   "outputs": [],
   "source": [
    "error_rate = []\n",
    "for i in range(1,40):\n",
    "    knn = KNeighborsClassifier(n_neighbors=i)\n",
    "    knn.fit(X_train_split, y_train_split)\n",
    "    predict_knn_i = knn.predict(X_test_split)\n",
    "    error_rate.append(np.mean(predict_knn_i != y_test_split))"
   ]
  },
  {
   "cell_type": "code",
   "execution_count": 27,
   "metadata": {},
   "outputs": [
    {
     "data": {
      "text/plain": [
       "Text(0, 0.5, 'Error Rate')"
      ]
     },
     "execution_count": 27,
     "metadata": {},
     "output_type": "execute_result"
    },
    {
     "data": {
      "image/png": "[encoded data removed]",
      "text/plain": [
       "<Figure size 720x288 with 1 Axes>"
      ]
     },
     "metadata": {},
     "output_type": "display_data"
    }
   ],
   "source": [
    "# Configure and plot error rate over k values\n",
    "plt.figure(figsize=(10,4))\n",
    "plt.plot(range(1,40), error_rate, color='blue', linestyle='dashed', marker='o', markerfacecolor='red', markersize=10)\n",
    "plt.title('Error Rate vs. K-Values')\n",
    "plt.xlabel('K-Values')\n",
    "plt.ylabel('Error Rate')"
   ]
  },
  {
   "cell_type": "code",
   "execution_count": 28,
   "metadata": {},
   "outputs": [
    {
     "data": {
      "text/plain": [
       "KNeighborsClassifier(algorithm='auto', leaf_size=30, metric='minkowski',\n",
       "           metric_params=None, n_jobs=None, n_neighbors=25, p=2,\n",
       "           weights='uniform')"
      ]
     },
     "execution_count": 28,
     "metadata": {},
     "output_type": "execute_result"
    }
   ],
   "source": [
    "knn = KNeighborsClassifier(n_neighbors=25)\n",
    "knn.fit(X_train_split, y_train_split)"
   ]
  },
  {
   "cell_type": "code",
   "execution_count": 29,
   "metadata": {},
   "outputs": [],
   "source": [
    "predict_knn = knn.predict(X_test_split)"
   ]
  },
  {
   "cell_type": "code",
   "execution_count": 30,
   "metadata": {},
   "outputs": [
    {
     "data": {
      "text/plain": [
       "array([3, 0, 1, 1, 0, 0, 0, 0, 0, 0, 1, 0, 1, 0, 0, 0, 1, 3, 0, 0, 0, 0,\n",
       "       0, 0, 1, 1, 1, 0, 0, 1, 0, 1, 0, 1, 0, 1, 0, 1, 1, 0, 0, 0, 1, 1,\n",
       "       2, 0, 0, 1, 0, 1, 0, 0, 0, 1, 1, 3, 0, 0, 1, 1, 1, 1, 1, 0, 1, 0,\n",
       "       0, 1, 1, 0, 0, 0, 1, 3, 0, 1, 1, 1, 0, 0, 1, 0, 0, 0, 1, 1, 1, 0,\n",
       "       0, 0, 0, 0, 1, 0, 0, 0, 1, 1, 0, 1, 0, 1, 0, 0, 0, 3, 3, 0, 2, 1,\n",
       "       1, 1, 0, 0, 0, 0, 0, 0, 2, 0, 0, 1, 0, 0, 1, 0, 0, 0, 0, 0, 0, 0,\n",
       "       0, 0, 0, 1, 1, 0, 0, 0, 0, 0, 0, 0, 1, 1, 1, 0, 1, 1, 1, 0, 1, 0,\n",
       "       0, 1, 0, 0, 1, 0, 0, 1, 0, 0, 0, 1, 0, 0, 0, 0, 0, 1, 1, 1, 0, 0,\n",
       "       0, 0, 1, 0, 0, 0, 0, 0, 0, 0, 0, 0, 1, 1, 0, 0, 1, 1, 1],\n",
       "      dtype=int64)"
      ]
     },
     "execution_count": 30,
     "metadata": {},
     "output_type": "execute_result"
    }
   ],
   "source": [
    "predict_knn"
   ]
  },
  {
   "cell_type": "code",
   "execution_count": 31,
   "metadata": {},
   "outputs": [
    {
     "data": {
      "text/plain": [
       "166    3\n",
       "375    1\n",
       "594    0\n",
       "639    2\n",
       "677    3\n",
       "499    0\n",
       "307    0\n",
       "230    1\n",
       "57     0\n",
       "396    3\n",
       "55     0\n",
       "134    1\n",
       "272    4\n",
       "289    0\n",
       "389    0\n",
       "673    1\n",
       "632    0\n",
       "728    3\n",
       "162    0\n",
       "164    0\n",
       "Name: Diagnosis_HD, dtype: int64"
      ]
     },
     "execution_count": 31,
     "metadata": {},
     "output_type": "execute_result"
    }
   ],
   "source": [
    "y_test_split[0:20]"
   ]
  },
  {
   "cell_type": "code",
   "execution_count": 32,
   "metadata": {},
   "outputs": [
    {
     "name": "stdout",
     "output_type": "stream",
     "text": [
      "Nilai akurasi knn  :  0.49743589743589745\n"
     ]
    }
   ],
   "source": [
    "print('Nilai akurasi knn  : ', accuracy_score(y_test_split, predict_knn))"
   ]
  },
  {
   "cell_type": "code",
   "execution_count": 33,
   "metadata": {},
   "outputs": [
    {
     "data": {
      "text/plain": [
       "0.5376712328767124"
      ]
     },
     "execution_count": 33,
     "metadata": {},
     "output_type": "execute_result"
    }
   ],
   "source": [
    "knn.score(X_train_split ,y_train_split)"
   ]
  },
  {
   "cell_type": "code",
   "execution_count": 34,
   "metadata": {},
   "outputs": [
    {
     "data": {
      "text/plain": [
       "0.49743589743589745"
      ]
     },
     "execution_count": 34,
     "metadata": {},
     "output_type": "execute_result"
    }
   ],
   "source": [
    "knn.score(X_test_split, y_test_split)"
   ]
  },
  {
   "cell_type": "code",
   "execution_count": 35,
   "metadata": {},
   "outputs": [],
   "source": [
    "# Import classification report and confusion matrix to evaluate predictions\n",
    "from sklearn.metrics import classification_report, confusion_matrix"
   ]
  },
  {
   "cell_type": "code",
   "execution_count": 36,
   "metadata": {},
   "outputs": [
    {
     "name": "stdout",
     "output_type": "stream",
     "text": [
      "              precision    recall  f1-score   support\n",
      "\n",
      "           0       0.58      0.78      0.66        87\n",
      "           1       0.37      0.48      0.42        52\n",
      "           2       0.33      0.03      0.06        29\n",
      "           3       0.50      0.14      0.22        21\n",
      "           4       0.00      0.00      0.00         6\n",
      "\n",
      "   micro avg       0.50      0.50      0.50       195\n",
      "   macro avg       0.36      0.29      0.27       195\n",
      "weighted avg       0.46      0.50      0.44       195\n",
      "\n"
     ]
    },
    {
     "name": "stderr",
     "output_type": "stream",
     "text": [
      "c:\\users\\aldo azali\\appdata\\local\\programs\\python\\python36-32\\lib\\site-packages\\sklearn\\metrics\\classification.py:1143: UndefinedMetricWarning: Precision and F-score are ill-defined and being set to 0.0 in labels with no predicted samples.\n",
      "  'precision', 'predicted', average, warn_for)\n"
     ]
    }
   ],
   "source": [
    "print(classification_report(y_test_split, predict_knn))"
   ]
  },
  {
   "cell_type": "code",
   "execution_count": 37,
   "metadata": {},
   "outputs": [
    {
     "name": "stdout",
     "output_type": "stream",
     "text": [
      "[[68 18  0  1  0]\n",
      " [24 25  2  1  0]\n",
      " [14 13  1  1  0]\n",
      " [10  8  0  3  0]\n",
      " [ 2  4  0  0  0]]\n",
      "TP - True Negative 68\n",
      "FP - False Positive 18\n",
      "FN - False Negative 24\n",
      "TP - True Positive 25\n",
      "Accuracy Rate: 0.47692307692307695\n",
      "Misclassification Rate: 0.2153846153846154\n"
     ]
    }
   ],
   "source": [
    "# Print out confusion matrix\n",
    "cmat = confusion_matrix(y_test_split, predict_knn)\n",
    "print(cmat)\n",
    "print('TP - True Negative {}'.format(cmat[0,0]))\n",
    "print('FP - False Positive {}'.format(cmat[0,1]))\n",
    "print('FN - False Negative {}'.format(cmat[1,0]))\n",
    "print('TP - True Positive {}'.format(cmat[1,1]))\n",
    "print('Accuracy Rate: {}'.format(np.divide(np.sum([cmat[0,0],cmat[1,1]]),np.sum(cmat))))\n",
    "print('Misclassification Rate: {}'.format(np.divide(np.sum([cmat[0,1],cmat[1,0]]),np.sum(cmat))))"
   ]
  },
  {
   "cell_type": "code",
   "execution_count": 38,
   "metadata": {},
   "outputs": [],
   "source": [
    "val_accuracy = []\n",
    "for i in np.arange(1,40):\n",
    "    knn = KNeighborsClassifier(n_neighbors=i)\n",
    "    knn.fit(X_train_split,y_train_split)\n",
    "    y_predict_split = knn.predict(X_test_split)\n",
    "    performance = np.mean(y_predict_split == y_test_split)\n",
    "    val_accuracy.append(performance)"
   ]
  },
  {
   "cell_type": "code",
   "execution_count": 39,
   "metadata": {},
   "outputs": [
    {
     "data": {
      "text/plain": [
       "[<matplotlib.lines.Line2D at 0x11bf6990>]"
      ]
     },
     "execution_count": 39,
     "metadata": {},
     "output_type": "execute_result"
    },
    {
     "data": {
      "image/png": "[encoded data removed]",
      "text/plain": [
       "<Figure size 432x288 with 1 Axes>"
      ]
     },
     "metadata": {},
     "output_type": "display_data"
    }
   ],
   "source": [
    "plt.title('accuracy vs k plot of digit recognition')\n",
    "plt.xlabel('k')\n",
    "plt.ylabel('accuracy')\n",
    "plt.plot(val_accuracy)"
   ]
  },
  {
   "cell_type": "markdown",
   "metadata": {},
   "source": [
    "### Gaussian Naive-Bayes"
   ]
  },
  {
   "cell_type": "code",
   "execution_count": 40,
   "metadata": {},
   "outputs": [],
   "source": [
    "# from sklearn.naive_bayes import GaussianNB\n",
    "# gnb = GaussianNB().fit(X_train_split, y_train_split)\n",
    "# predict_gnb = gnb.predict(X_test_split)\n",
    "# print(\"Number of mislabeled points out of a total %d points : %d\" % (X_test_split.shape[0],(y_test_split != predict_gnb).sum()))"
   ]
  },
  {
   "cell_type": "code",
   "execution_count": 41,
   "metadata": {},
   "outputs": [],
   "source": [
    "# predict_gnb[0:10]"
   ]
  },
  {
   "cell_type": "code",
   "execution_count": 42,
   "metadata": {},
   "outputs": [],
   "source": [
    "# y_train_split[0:10]"
   ]
  },
  {
   "cell_type": "code",
   "execution_count": 43,
   "metadata": {},
   "outputs": [],
   "source": [
    "# print('Nilai akurasi gnb  : ', accuracy_score(y_test_split, predict_gnb))"
   ]
  },
  {
   "cell_type": "code",
   "execution_count": 44,
   "metadata": {},
   "outputs": [],
   "source": [
    "# from sklearn.model_selection import train_test_split\n",
    "# from sklearn.feature_extraction.text import CountVectorizer\n",
    "# from sklearn.feature_extraction.text import TfidfTransformer\n",
    "# from sklearn.naive_bayes import MultinomialNB\n",
    "# X_train_split.shape"
   ]
  },
  {
   "cell_type": "code",
   "execution_count": 45,
   "metadata": {},
   "outputs": [],
   "source": [
    "# count_vect = CountVectorizer()\n",
    "# X_train_counts = count_vect.fit_transform(X_train_split)\n",
    "# tfidf_transformer = TfidfTransformer()\n",
    "# X_train_tfidf = tfidf_transformer.fit_transform(X_train_counts)\n",
    "# X_train_counts"
   ]
  },
  {
   "cell_type": "code",
   "execution_count": 46,
   "metadata": {},
   "outputs": [],
   "source": [
    "# mnb = MultinomialNB().fit(, y_train_split)"
   ]
  },
  {
   "cell_type": "code",
   "execution_count": null,
   "metadata": {},
   "outputs": [],
   "source": []
  },
  {
   "cell_type": "markdown",
   "metadata": {},
   "source": [
    "### Referensi"
   ]
  },
  {
   "cell_type": "markdown",
   "metadata": {},
   "source": [
    "https://medium.com/@kbrook10/day-11-machine-learning-using-knn-k-nearest-neighbors-with-scikit-learn-350c3a1402e6"
   ]
  },
  {
   "cell_type": "code",
   "execution_count": null,
   "metadata": {},
   "outputs": [],
   "source": []
  }
 ],
 "metadata": {
  "kernelspec": {
   "display_name": "Python 3",
   "language": "python",
   "name": "python3"
  },
  "language_info": {
   "codemirror_mode": {
    "name": "ipython",
    "version": 3
   },
   "file_extension": ".py",
   "mimetype": "text/x-python",
   "name": "python",
   "nbconvert_exporter": "python",
   "pygments_lexer": "ipython3",
   "version": "3.6.5"
  }
 },
 "nbformat": 4,
 "nbformat_minor": 2
}
