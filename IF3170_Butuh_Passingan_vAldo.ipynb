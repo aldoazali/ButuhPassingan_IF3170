{
 "cells": [
  {
   "cell_type": "markdown",
   "metadata": {},
   "source": [
    "# Tugas Besar 2 IF3170 - Intelegensi Buatan\n",
    "## Kelompok Butuh Passingan\n",
    "### Nama Anggota :\n",
    "1. Andreas Halim - 13516003\n",
    "2. Dafi Faraz - 13516057\n",
    "3. Aldo Azali - 13516125\n",
    "4. Untung Tanujaya - 13516135 \n",
    "5. Jeffry - 13516156"
   ]
  },
  {
   "cell_type": "code",
   "execution_count": 1,
   "metadata": {},
   "outputs": [],
   "source": [
    "import numpy as np\n",
    "import pandas as pd\n",
    "import seaborn as sns\n",
    "import matplotlib.pyplot as plt\n",
    "%matplotlib inline"
   ]
  },
  {
   "cell_type": "code",
   "execution_count": 2,
   "metadata": {},
   "outputs": [
    {
     "data": {
      "text/plain": [
       "(779, 14)"
      ]
     },
     "execution_count": 2,
     "metadata": {},
     "output_type": "execute_result"
    }
   ],
   "source": [
    "df = pd.read_csv('tubes2_HeartDisease_train.csv', na_values='?')\n",
    "dg = pd.read_csv('tubes2_HeartDisease_test.csv', na_values='?')\n",
    "df.shape"
   ]
  },
  {
   "cell_type": "code",
   "execution_count": 3,
   "metadata": {},
   "outputs": [
    {
     "data": {
      "text/html": [
       "<div>\n",
       "<style scoped>\n",
       "    .dataframe tbody tr th:only-of-type {\n",
       "        vertical-align: middle;\n",
       "    }\n",
       "\n",
       "    .dataframe tbody tr th {\n",
       "        vertical-align: top;\n",
       "    }\n",
       "\n",
       "    .dataframe thead th {\n",
       "        text-align: right;\n",
       "    }\n",
       "</style>\n",
       "<table border=\"1\" class=\"dataframe\">\n",
       "  <thead>\n",
       "    <tr style=\"text-align: right;\">\n",
       "      <th></th>\n",
       "      <th>Column1</th>\n",
       "      <th>Column2</th>\n",
       "      <th>Column3</th>\n",
       "      <th>Column4</th>\n",
       "      <th>Column5</th>\n",
       "      <th>Column6</th>\n",
       "      <th>Column7</th>\n",
       "      <th>Column8</th>\n",
       "      <th>Column9</th>\n",
       "      <th>Column10</th>\n",
       "      <th>Column11</th>\n",
       "      <th>Column12</th>\n",
       "      <th>Column13</th>\n",
       "      <th>Column14</th>\n",
       "    </tr>\n",
       "  </thead>\n",
       "  <tbody>\n",
       "    <tr>\n",
       "      <th>0</th>\n",
       "      <td>54</td>\n",
       "      <td>1</td>\n",
       "      <td>4</td>\n",
       "      <td>125.0</td>\n",
       "      <td>216.0</td>\n",
       "      <td>0.0</td>\n",
       "      <td>0.0</td>\n",
       "      <td>140.0</td>\n",
       "      <td>0.0</td>\n",
       "      <td>0.0</td>\n",
       "      <td>NaN</td>\n",
       "      <td>NaN</td>\n",
       "      <td>NaN</td>\n",
       "      <td>1</td>\n",
       "    </tr>\n",
       "    <tr>\n",
       "      <th>1</th>\n",
       "      <td>55</td>\n",
       "      <td>1</td>\n",
       "      <td>4</td>\n",
       "      <td>158.0</td>\n",
       "      <td>217.0</td>\n",
       "      <td>0.0</td>\n",
       "      <td>0.0</td>\n",
       "      <td>110.0</td>\n",
       "      <td>1.0</td>\n",
       "      <td>2.5</td>\n",
       "      <td>2.0</td>\n",
       "      <td>NaN</td>\n",
       "      <td>NaN</td>\n",
       "      <td>1</td>\n",
       "    </tr>\n",
       "    <tr>\n",
       "      <th>2</th>\n",
       "      <td>54</td>\n",
       "      <td>0</td>\n",
       "      <td>3</td>\n",
       "      <td>135.0</td>\n",
       "      <td>304.0</td>\n",
       "      <td>1.0</td>\n",
       "      <td>0.0</td>\n",
       "      <td>170.0</td>\n",
       "      <td>0.0</td>\n",
       "      <td>0.0</td>\n",
       "      <td>1.0</td>\n",
       "      <td>0.0</td>\n",
       "      <td>3.0</td>\n",
       "      <td>0</td>\n",
       "    </tr>\n",
       "    <tr>\n",
       "      <th>3</th>\n",
       "      <td>48</td>\n",
       "      <td>0</td>\n",
       "      <td>3</td>\n",
       "      <td>120.0</td>\n",
       "      <td>195.0</td>\n",
       "      <td>0.0</td>\n",
       "      <td>0.0</td>\n",
       "      <td>125.0</td>\n",
       "      <td>0.0</td>\n",
       "      <td>0.0</td>\n",
       "      <td>NaN</td>\n",
       "      <td>NaN</td>\n",
       "      <td>NaN</td>\n",
       "      <td>0</td>\n",
       "    </tr>\n",
       "    <tr>\n",
       "      <th>4</th>\n",
       "      <td>50</td>\n",
       "      <td>1</td>\n",
       "      <td>4</td>\n",
       "      <td>120.0</td>\n",
       "      <td>0.0</td>\n",
       "      <td>0.0</td>\n",
       "      <td>1.0</td>\n",
       "      <td>156.0</td>\n",
       "      <td>1.0</td>\n",
       "      <td>0.0</td>\n",
       "      <td>1.0</td>\n",
       "      <td>NaN</td>\n",
       "      <td>6.0</td>\n",
       "      <td>3</td>\n",
       "    </tr>\n",
       "  </tbody>\n",
       "</table>\n",
       "</div>"
      ],
      "text/plain": [
       "   Column1  Column2  Column3  Column4  Column5  Column6  Column7  Column8  \\\n",
       "0       54        1        4    125.0    216.0      0.0      0.0    140.0   \n",
       "1       55        1        4    158.0    217.0      0.0      0.0    110.0   \n",
       "2       54        0        3    135.0    304.0      1.0      0.0    170.0   \n",
       "3       48        0        3    120.0    195.0      0.0      0.0    125.0   \n",
       "4       50        1        4    120.0      0.0      0.0      1.0    156.0   \n",
       "\n",
       "   Column9  Column10  Column11  Column12  Column13  Column14  \n",
       "0      0.0       0.0       NaN       NaN       NaN         1  \n",
       "1      1.0       2.5       2.0       NaN       NaN         1  \n",
       "2      0.0       0.0       1.0       0.0       3.0         0  \n",
       "3      0.0       0.0       NaN       NaN       NaN         0  \n",
       "4      1.0       0.0       1.0       NaN       6.0         3  "
      ]
     },
     "execution_count": 3,
     "metadata": {},
     "output_type": "execute_result"
    }
   ],
   "source": [
    "df.head()"
   ]
  },
  {
   "cell_type": "code",
   "execution_count": 4,
   "metadata": {},
   "outputs": [],
   "source": [
    "df.columns = ['Age', 'Sex', 'Chest-Pain_Type', 'Resting_Blood_Pressure', 'Serum_Cholestrol', 'Fasting_Blood_Sugar_120',\n",
    "       'resting_ECG', 'Max-Heart_Rate_Achieved', 'Exercise_Induced_Angina', 'ST_Depression', 'Peak_Exercise', 'Number_Major_Vessels',\n",
    "       'Thal', 'Diagnosis_HD']\n",
    "dg.columns = ['Age', 'Sex', 'Chest-Pain_Type', 'Resting_Blood_Pressure', 'Serum_Cholestrol', 'Fasting_Blood_Sugar_120',\n",
    "       'resting_ECG', 'Max-Heart_Rate_Achieved', 'Exercise_Induced_Angina', 'ST_Depression', 'Peak_Exercise', 'Number_Major_Vessels',\n",
    "       'Thal']"
   ]
  },
  {
   "cell_type": "code",
   "execution_count": 5,
   "metadata": {},
   "outputs": [
    {
     "data": {
      "text/html": [
       "<div>\n",
       "<style scoped>\n",
       "    .dataframe tbody tr th:only-of-type {\n",
       "        vertical-align: middle;\n",
       "    }\n",
       "\n",
       "    .dataframe tbody tr th {\n",
       "        vertical-align: top;\n",
       "    }\n",
       "\n",
       "    .dataframe thead th {\n",
       "        text-align: right;\n",
       "    }\n",
       "</style>\n",
       "<table border=\"1\" class=\"dataframe\">\n",
       "  <thead>\n",
       "    <tr style=\"text-align: right;\">\n",
       "      <th></th>\n",
       "      <th>Age</th>\n",
       "      <th>Sex</th>\n",
       "      <th>Chest-Pain_Type</th>\n",
       "      <th>Resting_Blood_Pressure</th>\n",
       "      <th>Serum_Cholestrol</th>\n",
       "      <th>Fasting_Blood_Sugar_120</th>\n",
       "      <th>resting_ECG</th>\n",
       "      <th>Max-Heart_Rate_Achieved</th>\n",
       "      <th>Exercise_Induced_Angina</th>\n",
       "      <th>ST_Depression</th>\n",
       "      <th>Peak_Exercise</th>\n",
       "      <th>Number_Major_Vessels</th>\n",
       "      <th>Thal</th>\n",
       "      <th>Diagnosis_HD</th>\n",
       "    </tr>\n",
       "  </thead>\n",
       "  <tbody>\n",
       "    <tr>\n",
       "      <th>0</th>\n",
       "      <td>54</td>\n",
       "      <td>1</td>\n",
       "      <td>4</td>\n",
       "      <td>125.0</td>\n",
       "      <td>216.0</td>\n",
       "      <td>0.0</td>\n",
       "      <td>0.0</td>\n",
       "      <td>140.0</td>\n",
       "      <td>0.0</td>\n",
       "      <td>0.0</td>\n",
       "      <td>NaN</td>\n",
       "      <td>NaN</td>\n",
       "      <td>NaN</td>\n",
       "      <td>1</td>\n",
       "    </tr>\n",
       "    <tr>\n",
       "      <th>1</th>\n",
       "      <td>55</td>\n",
       "      <td>1</td>\n",
       "      <td>4</td>\n",
       "      <td>158.0</td>\n",
       "      <td>217.0</td>\n",
       "      <td>0.0</td>\n",
       "      <td>0.0</td>\n",
       "      <td>110.0</td>\n",
       "      <td>1.0</td>\n",
       "      <td>2.5</td>\n",
       "      <td>2.0</td>\n",
       "      <td>NaN</td>\n",
       "      <td>NaN</td>\n",
       "      <td>1</td>\n",
       "    </tr>\n",
       "    <tr>\n",
       "      <th>2</th>\n",
       "      <td>54</td>\n",
       "      <td>0</td>\n",
       "      <td>3</td>\n",
       "      <td>135.0</td>\n",
       "      <td>304.0</td>\n",
       "      <td>1.0</td>\n",
       "      <td>0.0</td>\n",
       "      <td>170.0</td>\n",
       "      <td>0.0</td>\n",
       "      <td>0.0</td>\n",
       "      <td>1.0</td>\n",
       "      <td>0.0</td>\n",
       "      <td>3.0</td>\n",
       "      <td>0</td>\n",
       "    </tr>\n",
       "    <tr>\n",
       "      <th>3</th>\n",
       "      <td>48</td>\n",
       "      <td>0</td>\n",
       "      <td>3</td>\n",
       "      <td>120.0</td>\n",
       "      <td>195.0</td>\n",
       "      <td>0.0</td>\n",
       "      <td>0.0</td>\n",
       "      <td>125.0</td>\n",
       "      <td>0.0</td>\n",
       "      <td>0.0</td>\n",
       "      <td>NaN</td>\n",
       "      <td>NaN</td>\n",
       "      <td>NaN</td>\n",
       "      <td>0</td>\n",
       "    </tr>\n",
       "    <tr>\n",
       "      <th>4</th>\n",
       "      <td>50</td>\n",
       "      <td>1</td>\n",
       "      <td>4</td>\n",
       "      <td>120.0</td>\n",
       "      <td>0.0</td>\n",
       "      <td>0.0</td>\n",
       "      <td>1.0</td>\n",
       "      <td>156.0</td>\n",
       "      <td>1.0</td>\n",
       "      <td>0.0</td>\n",
       "      <td>1.0</td>\n",
       "      <td>NaN</td>\n",
       "      <td>6.0</td>\n",
       "      <td>3</td>\n",
       "    </tr>\n",
       "  </tbody>\n",
       "</table>\n",
       "</div>"
      ],
      "text/plain": [
       "   Age  Sex  Chest-Pain_Type  Resting_Blood_Pressure  Serum_Cholestrol  \\\n",
       "0   54    1                4                   125.0             216.0   \n",
       "1   55    1                4                   158.0             217.0   \n",
       "2   54    0                3                   135.0             304.0   \n",
       "3   48    0                3                   120.0             195.0   \n",
       "4   50    1                4                   120.0               0.0   \n",
       "\n",
       "   Fasting_Blood_Sugar_120  resting_ECG  Max-Heart_Rate_Achieved  \\\n",
       "0                      0.0          0.0                    140.0   \n",
       "1                      0.0          0.0                    110.0   \n",
       "2                      1.0          0.0                    170.0   \n",
       "3                      0.0          0.0                    125.0   \n",
       "4                      0.0          1.0                    156.0   \n",
       "\n",
       "   Exercise_Induced_Angina  ST_Depression  Peak_Exercise  \\\n",
       "0                      0.0            0.0            NaN   \n",
       "1                      1.0            2.5            2.0   \n",
       "2                      0.0            0.0            1.0   \n",
       "3                      0.0            0.0            NaN   \n",
       "4                      1.0            0.0            1.0   \n",
       "\n",
       "   Number_Major_Vessels  Thal  Diagnosis_HD  \n",
       "0                   NaN   NaN             1  \n",
       "1                   NaN   NaN             1  \n",
       "2                   0.0   3.0             0  \n",
       "3                   NaN   NaN             0  \n",
       "4                   NaN   6.0             3  "
      ]
     },
     "execution_count": 5,
     "metadata": {},
     "output_type": "execute_result"
    }
   ],
   "source": [
    "df.head()"
   ]
  },
  {
   "cell_type": "markdown",
   "metadata": {},
   "source": [
    "## Data Preprocessing"
   ]
  },
  {
   "cell_type": "markdown",
   "metadata": {},
   "source": [
    "### Add some description to data"
   ]
  },
  {
   "cell_type": "code",
   "execution_count": 6,
   "metadata": {},
   "outputs": [
    {
     "data": {
      "text/html": [
       "<div>\n",
       "<style scoped>\n",
       "    .dataframe tbody tr th:only-of-type {\n",
       "        vertical-align: middle;\n",
       "    }\n",
       "\n",
       "    .dataframe tbody tr th {\n",
       "        vertical-align: top;\n",
       "    }\n",
       "\n",
       "    .dataframe thead th {\n",
       "        text-align: right;\n",
       "    }\n",
       "</style>\n",
       "<table border=\"1\" class=\"dataframe\">\n",
       "  <thead>\n",
       "    <tr style=\"text-align: right;\">\n",
       "      <th></th>\n",
       "      <th>Age</th>\n",
       "      <th>Sex</th>\n",
       "      <th>Chest-Pain_Type</th>\n",
       "      <th>Resting_Blood_Pressure</th>\n",
       "      <th>Serum_Cholestrol</th>\n",
       "      <th>Fasting_Blood_Sugar_120</th>\n",
       "      <th>resting_ECG</th>\n",
       "      <th>Max-Heart_Rate_Achieved</th>\n",
       "      <th>Exercise_Induced_Angina</th>\n",
       "      <th>ST_Depression</th>\n",
       "      <th>Peak_Exercise</th>\n",
       "      <th>Number_Major_Vessels</th>\n",
       "      <th>Thal</th>\n",
       "      <th>Diagnosis_HD</th>\n",
       "    </tr>\n",
       "  </thead>\n",
       "  <tbody>\n",
       "    <tr>\n",
       "      <th>0</th>\n",
       "      <td>54</td>\n",
       "      <td>Male</td>\n",
       "      <td>Asymptotic</td>\n",
       "      <td>125.0</td>\n",
       "      <td>216.0</td>\n",
       "      <td>False</td>\n",
       "      <td>normal</td>\n",
       "      <td>140.0</td>\n",
       "      <td>NO</td>\n",
       "      <td>0.0</td>\n",
       "      <td>NaN</td>\n",
       "      <td>NaN</td>\n",
       "      <td>NaN</td>\n",
       "      <td>1</td>\n",
       "    </tr>\n",
       "    <tr>\n",
       "      <th>1</th>\n",
       "      <td>55</td>\n",
       "      <td>Male</td>\n",
       "      <td>Asymptotic</td>\n",
       "      <td>158.0</td>\n",
       "      <td>217.0</td>\n",
       "      <td>False</td>\n",
       "      <td>normal</td>\n",
       "      <td>110.0</td>\n",
       "      <td>YES</td>\n",
       "      <td>2.5</td>\n",
       "      <td>flat</td>\n",
       "      <td>NaN</td>\n",
       "      <td>NaN</td>\n",
       "      <td>1</td>\n",
       "    </tr>\n",
       "    <tr>\n",
       "      <th>2</th>\n",
       "      <td>54</td>\n",
       "      <td>Female</td>\n",
       "      <td>Non-Anginal_Pain</td>\n",
       "      <td>135.0</td>\n",
       "      <td>304.0</td>\n",
       "      <td>True</td>\n",
       "      <td>normal</td>\n",
       "      <td>170.0</td>\n",
       "      <td>NO</td>\n",
       "      <td>0.0</td>\n",
       "      <td>upsloping</td>\n",
       "      <td>0.0</td>\n",
       "      <td>normal</td>\n",
       "      <td>0</td>\n",
       "    </tr>\n",
       "    <tr>\n",
       "      <th>3</th>\n",
       "      <td>48</td>\n",
       "      <td>Female</td>\n",
       "      <td>Non-Anginal_Pain</td>\n",
       "      <td>120.0</td>\n",
       "      <td>195.0</td>\n",
       "      <td>False</td>\n",
       "      <td>normal</td>\n",
       "      <td>125.0</td>\n",
       "      <td>NO</td>\n",
       "      <td>0.0</td>\n",
       "      <td>NaN</td>\n",
       "      <td>NaN</td>\n",
       "      <td>NaN</td>\n",
       "      <td>0</td>\n",
       "    </tr>\n",
       "    <tr>\n",
       "      <th>4</th>\n",
       "      <td>50</td>\n",
       "      <td>Male</td>\n",
       "      <td>Asymptotic</td>\n",
       "      <td>120.0</td>\n",
       "      <td>0.0</td>\n",
       "      <td>False</td>\n",
       "      <td>having_ST-T_wave_abnormality</td>\n",
       "      <td>156.0</td>\n",
       "      <td>YES</td>\n",
       "      <td>0.0</td>\n",
       "      <td>upsloping</td>\n",
       "      <td>NaN</td>\n",
       "      <td>fixed_defect</td>\n",
       "      <td>3</td>\n",
       "    </tr>\n",
       "  </tbody>\n",
       "</table>\n",
       "</div>"
      ],
      "text/plain": [
       "   Age     Sex   Chest-Pain_Type  Resting_Blood_Pressure  Serum_Cholestrol  \\\n",
       "0   54    Male        Asymptotic                   125.0             216.0   \n",
       "1   55    Male        Asymptotic                   158.0             217.0   \n",
       "2   54  Female  Non-Anginal_Pain                   135.0             304.0   \n",
       "3   48  Female  Non-Anginal_Pain                   120.0             195.0   \n",
       "4   50    Male        Asymptotic                   120.0               0.0   \n",
       "\n",
       "  Fasting_Blood_Sugar_120                   resting_ECG  \\\n",
       "0                   False                        normal   \n",
       "1                   False                        normal   \n",
       "2                    True                        normal   \n",
       "3                   False                        normal   \n",
       "4                   False  having_ST-T_wave_abnormality   \n",
       "\n",
       "   Max-Heart_Rate_Achieved Exercise_Induced_Angina  ST_Depression  \\\n",
       "0                    140.0                      NO            0.0   \n",
       "1                    110.0                     YES            2.5   \n",
       "2                    170.0                      NO            0.0   \n",
       "3                    125.0                      NO            0.0   \n",
       "4                    156.0                     YES            0.0   \n",
       "\n",
       "  Peak_Exercise  Number_Major_Vessels          Thal  Diagnosis_HD  \n",
       "0           NaN                   NaN           NaN             1  \n",
       "1          flat                   NaN           NaN             1  \n",
       "2     upsloping                   0.0        normal             0  \n",
       "3           NaN                   NaN           NaN             0  \n",
       "4     upsloping                   NaN  fixed_defect             3  "
      ]
     },
     "execution_count": 6,
     "metadata": {},
     "output_type": "execute_result"
    }
   ],
   "source": [
    "df['Sex'] = df['Sex'].replace(1, 'Male')\n",
    "df['Sex'] = df['Sex'].replace(0, 'Female')\n",
    "df['Chest-Pain_Type'] = df['Chest-Pain_Type'].replace(1, 'Typical_Angina')\n",
    "df['Chest-Pain_Type'] = df['Chest-Pain_Type'].replace(2, 'Atypical_Angina')\n",
    "df['Chest-Pain_Type'] = df['Chest-Pain_Type'].replace(3, 'Non-Anginal_Pain')\n",
    "df['Chest-Pain_Type'] = df['Chest-Pain_Type'].replace(4, 'Asymptotic')\n",
    "df['Fasting_Blood_Sugar_120'] = df['Fasting_Blood_Sugar_120'].replace(1, True)\n",
    "df['Fasting_Blood_Sugar_120'] = df['Fasting_Blood_Sugar_120'].replace(0, False)\n",
    "df['resting_ECG'] = df['resting_ECG'].replace(0, 'normal')\n",
    "df['resting_ECG'] = df['resting_ECG'].replace(1, 'having_ST-T_wave_abnormality')\n",
    "df['resting_ECG'] = df['resting_ECG'].replace(2, 'left_ventricular_hyperthrophy')\n",
    "df['Exercise_Induced_Angina'] = df['Exercise_Induced_Angina'].replace(1, 'YES')\n",
    "df['Exercise_Induced_Angina'] = df['Exercise_Induced_Angina'].replace(0, 'NO')\n",
    "df['Peak_Exercise'] = df['Peak_Exercise'].replace(1, 'upsloping')\n",
    "df['Peak_Exercise'] = df['Peak_Exercise'].replace(2, 'flat')\n",
    "df['Peak_Exercise'] = df['Peak_Exercise'].replace(3, 'downsloping')\n",
    "df['Thal'] = df['Thal'].replace(3, 'normal')\n",
    "df['Thal'] = df['Thal'].replace(6, 'fixed_defect')\n",
    "df['Thal'] = df['Thal'].replace(7, 'reversable_defect')\n",
    "df.head()"
   ]
  },
  {
   "cell_type": "code",
   "execution_count": 7,
   "metadata": {},
   "outputs": [
    {
     "data": {
      "text/html": [
       "<div>\n",
       "<style scoped>\n",
       "    .dataframe tbody tr th:only-of-type {\n",
       "        vertical-align: middle;\n",
       "    }\n",
       "\n",
       "    .dataframe tbody tr th {\n",
       "        vertical-align: top;\n",
       "    }\n",
       "\n",
       "    .dataframe thead th {\n",
       "        text-align: right;\n",
       "    }\n",
       "</style>\n",
       "<table border=\"1\" class=\"dataframe\">\n",
       "  <thead>\n",
       "    <tr style=\"text-align: right;\">\n",
       "      <th></th>\n",
       "      <th>Age</th>\n",
       "      <th>Sex</th>\n",
       "      <th>Chest-Pain_Type</th>\n",
       "      <th>Resting_Blood_Pressure</th>\n",
       "      <th>Serum_Cholestrol</th>\n",
       "      <th>Fasting_Blood_Sugar_120</th>\n",
       "      <th>resting_ECG</th>\n",
       "      <th>Max-Heart_Rate_Achieved</th>\n",
       "      <th>Exercise_Induced_Angina</th>\n",
       "      <th>ST_Depression</th>\n",
       "      <th>Peak_Exercise</th>\n",
       "      <th>Number_Major_Vessels</th>\n",
       "      <th>Thal</th>\n",
       "    </tr>\n",
       "  </thead>\n",
       "  <tbody>\n",
       "    <tr>\n",
       "      <th>0</th>\n",
       "      <td>60</td>\n",
       "      <td>Male</td>\n",
       "      <td>Asymptotic</td>\n",
       "      <td>160.0</td>\n",
       "      <td>267.0</td>\n",
       "      <td>False</td>\n",
       "      <td>normal</td>\n",
       "      <td>157.0</td>\n",
       "      <td>NO</td>\n",
       "      <td>0.5</td>\n",
       "      <td>NaN</td>\n",
       "      <td>NaN</td>\n",
       "      <td>NaN</td>\n",
       "    </tr>\n",
       "    <tr>\n",
       "      <th>1</th>\n",
       "      <td>61</td>\n",
       "      <td>Male</td>\n",
       "      <td>Asymptotic</td>\n",
       "      <td>148.0</td>\n",
       "      <td>203.0</td>\n",
       "      <td>False</td>\n",
       "      <td>normal</td>\n",
       "      <td>161.0</td>\n",
       "      <td>YES</td>\n",
       "      <td>0.0</td>\n",
       "      <td>flat</td>\n",
       "      <td>1.0</td>\n",
       "      <td>NaN</td>\n",
       "    </tr>\n",
       "    <tr>\n",
       "      <th>2</th>\n",
       "      <td>54</td>\n",
       "      <td>Female</td>\n",
       "      <td>Non-Anginal_Pain</td>\n",
       "      <td>130.0</td>\n",
       "      <td>242.0</td>\n",
       "      <td>True</td>\n",
       "      <td>normal</td>\n",
       "      <td>91.0</td>\n",
       "      <td>NO</td>\n",
       "      <td>1.0</td>\n",
       "      <td>upsloping</td>\n",
       "      <td>NaN</td>\n",
       "      <td>normal</td>\n",
       "    </tr>\n",
       "    <tr>\n",
       "      <th>3</th>\n",
       "      <td>48</td>\n",
       "      <td>Female</td>\n",
       "      <td>Non-Anginal_Pain</td>\n",
       "      <td>120.0</td>\n",
       "      <td>260.0</td>\n",
       "      <td>False</td>\n",
       "      <td>normal</td>\n",
       "      <td>115.0</td>\n",
       "      <td>NO</td>\n",
       "      <td>2.0</td>\n",
       "      <td>NaN</td>\n",
       "      <td>NaN</td>\n",
       "      <td>NaN</td>\n",
       "    </tr>\n",
       "    <tr>\n",
       "      <th>4</th>\n",
       "      <td>57</td>\n",
       "      <td>Male</td>\n",
       "      <td>Asymptotic</td>\n",
       "      <td>130.0</td>\n",
       "      <td>308.0</td>\n",
       "      <td>False</td>\n",
       "      <td>having_ST-T_wave_abnormality</td>\n",
       "      <td>98.0</td>\n",
       "      <td>YES</td>\n",
       "      <td>1.0</td>\n",
       "      <td>upsloping</td>\n",
       "      <td>NaN</td>\n",
       "      <td>fixed_defect</td>\n",
       "    </tr>\n",
       "  </tbody>\n",
       "</table>\n",
       "</div>"
      ],
      "text/plain": [
       "   Age     Sex   Chest-Pain_Type  Resting_Blood_Pressure  Serum_Cholestrol  \\\n",
       "0   60    Male        Asymptotic                   160.0             267.0   \n",
       "1   61    Male        Asymptotic                   148.0             203.0   \n",
       "2   54  Female  Non-Anginal_Pain                   130.0             242.0   \n",
       "3   48  Female  Non-Anginal_Pain                   120.0             260.0   \n",
       "4   57    Male        Asymptotic                   130.0             308.0   \n",
       "\n",
       "  Fasting_Blood_Sugar_120                   resting_ECG  \\\n",
       "0                   False                        normal   \n",
       "1                   False                        normal   \n",
       "2                    True                        normal   \n",
       "3                   False                        normal   \n",
       "4                   False  having_ST-T_wave_abnormality   \n",
       "\n",
       "   Max-Heart_Rate_Achieved Exercise_Induced_Angina  ST_Depression  \\\n",
       "0                    157.0                      NO            0.5   \n",
       "1                    161.0                     YES            0.0   \n",
       "2                     91.0                      NO            1.0   \n",
       "3                    115.0                      NO            2.0   \n",
       "4                     98.0                     YES            1.0   \n",
       "\n",
       "  Peak_Exercise  Number_Major_Vessels          Thal  \n",
       "0           NaN                   NaN           NaN  \n",
       "1          flat                   1.0           NaN  \n",
       "2     upsloping                   NaN        normal  \n",
       "3           NaN                   NaN           NaN  \n",
       "4     upsloping                   NaN  fixed_defect  "
      ]
     },
     "execution_count": 7,
     "metadata": {},
     "output_type": "execute_result"
    }
   ],
   "source": [
    "dg['Sex'] = df['Sex'].replace(1, 'Male')\n",
    "dg['Sex'] = df['Sex'].replace(0, 'Female')\n",
    "dg['Chest-Pain_Type'] = df['Chest-Pain_Type'].replace(1, 'Typical_Angina')\n",
    "dg['Chest-Pain_Type'] = df['Chest-Pain_Type'].replace(2, 'Atypical_Angina')\n",
    "dg['Chest-Pain_Type'] = df['Chest-Pain_Type'].replace(3, 'Non-Anginal_Pain')\n",
    "dg['Chest-Pain_Type'] = df['Chest-Pain_Type'].replace(4, 'Asymptotic')\n",
    "dg['Fasting_Blood_Sugar_120'] = df['Fasting_Blood_Sugar_120'].replace(1, True)\n",
    "dg['Fasting_Blood_Sugar_120'] = df['Fasting_Blood_Sugar_120'].replace(0, False)\n",
    "dg['resting_ECG'] = df['resting_ECG'].replace(0, 'normal')\n",
    "dg['resting_ECG'] = df['resting_ECG'].replace(1, 'having_ST-T_wave_abnormality')\n",
    "dg['resting_ECG'] = df['resting_ECG'].replace(2, 'left_ventricular_hyperthrophy')\n",
    "dg['Exercise_Induced_Angina'] = df['Exercise_Induced_Angina'].replace(1, 'YES')\n",
    "dg['Exercise_Induced_Angina'] = df['Exercise_Induced_Angina'].replace(0, 'NO')\n",
    "dg['Peak_Exercise'] = df['Peak_Exercise'].replace(1, 'upsloping')\n",
    "dg['Peak_Exercise'] = df['Peak_Exercise'].replace(2, 'flat')\n",
    "dg['Peak_Exercise'] = df['Peak_Exercise'].replace(3, 'downsloping')\n",
    "dg['Thal'] = df['Thal'].replace(3, 'normal')\n",
    "dg['Thal'] = df['Thal'].replace(6, 'fixed_defect')\n",
    "dg['Thal'] = df['Thal'].replace(7, 'reversable_defect')\n",
    "dg.head()"
   ]
  },
  {
   "cell_type": "markdown",
   "metadata": {},
   "source": [
    "## Data Analysis with graphic"
   ]
  },
  {
   "cell_type": "code",
   "execution_count": 8,
   "metadata": {},
   "outputs": [
    {
     "name": "stdout",
     "output_type": "stream",
     "text": [
      "Class 0: 349\n",
      "Class 1: 225\n",
      "Class 2: 92\n",
      "Class 3: 90\n",
      "Class 4: 23\n",
      "Proportion: 1.55 : 1\n"
     ]
    },
    {
     "data": {
      "image/png": "[encoded data removed]",
      "text/plain": [
       "<Figure size 432x288 with 1 Axes>"
      ]
     },
     "metadata": {},
     "output_type": "display_data"
    }
   ],
   "source": [
    "target_count = df.Diagnosis_HD.value_counts()\n",
    "print('Class 0:', target_count[0])\n",
    "print('Class 1:', target_count[1])\n",
    "print('Class 2:', target_count[2])\n",
    "print('Class 3:', target_count[3])\n",
    "print('Class 4:', target_count[4])\n",
    "print('Proportion:', round(target_count[0] / target_count[1], 2), ': 1')\n",
    "target_count.plot(kind='bar', title='Count (target)');"
   ]
  },
  {
   "cell_type": "code",
   "execution_count": 9,
   "metadata": {},
   "outputs": [
    {
     "name": "stderr",
     "output_type": "stream",
     "text": [
      "c:\\users\\aldo azali\\appdata\\local\\programs\\python\\python36-32\\lib\\site-packages\\scipy\\stats\\stats.py:1713: FutureWarning: Using a non-tuple sequence for multidimensional indexing is deprecated; use `arr[tuple(seq)]` instead of `arr[seq]`. In the future this will be interpreted as an array index, `arr[np.array(seq)]`, which will result either in an error or a different result.\n",
      "  return np.add.reduce(sorted[indexer] * weights, axis=axis) / sumval\n"
     ]
    },
    {
     "data": {
      "text/plain": [
       "<matplotlib.axes._subplots.AxesSubplot at 0x1142a4b0>"
      ]
     },
     "execution_count": 9,
     "metadata": {},
     "output_type": "execute_result"
    },
    {
     "data": {
      "image/png": "[encoded data removed]",
      "text/plain": [
       "<Figure size 432x288 with 1 Axes>"
      ]
     },
     "metadata": {},
     "output_type": "display_data"
    }
   ],
   "source": [
    "# \"Age\", Resting_Blood_Pressure , Serum_Cholestrol , \"Max-Heart_Rate_Achieved\" , ST_Depression\n",
    "sns.violinplot(x=df['Diagnosis_HD'], y=df['ST_Depression'])"
   ]
  },
  {
   "cell_type": "code",
   "execution_count": 10,
   "metadata": {
    "scrolled": true
   },
   "outputs": [
    {
     "data": {
      "text/plain": [
       "<matplotlib.axes._subplots.AxesSubplot at 0x135a64f0>"
      ]
     },
     "execution_count": 10,
     "metadata": {},
     "output_type": "execute_result"
    },
    {
     "data": {
      "image/png": "[encoded data removed]",
      "text/plain": [
       "<Figure size 432x288 with 1 Axes>"
      ]
     },
     "metadata": {},
     "output_type": "display_data"
    }
   ],
   "source": [
    "# \"Age\", Resting_Blood_Pressure , Serum_Cholestrol , \"Max-Heart_Rate_Achieved\" , ST_Depression\n",
    "sns.boxplot(x=df['Diagnosis_HD'], y=df['ST_Depression'])"
   ]
  },
  {
   "cell_type": "code",
   "execution_count": 11,
   "metadata": {},
   "outputs": [
    {
     "data": {
      "text/plain": [
       "<matplotlib.axes._subplots.AxesSubplot at 0x1360a6f0>"
      ]
     },
     "execution_count": 11,
     "metadata": {},
     "output_type": "execute_result"
    },
    {
     "data": {
      "image/png": "[encoded data removed]",
      "text/plain": [
       "<Figure size 432x288 with 1 Axes>"
      ]
     },
     "metadata": {},
     "output_type": "display_data"
    }
   ],
   "source": [
    "# \"Chest-Pain_Type\" , -resting_ECG- ,\"Peak_Exercise\" , \"Thal\"  , \"Number_Major_Vessels\", Fasting_Blood_Sugar_120, \"Exercise_Induced_Angina\"\n",
    "sns.countplot(x=df['Diagnosis_HD'], hue=df['Number_Major_Vessels'])"
   ]
  },
  {
   "cell_type": "markdown",
   "metadata": {},
   "source": [
    "### Check Null Values\n",
    "If there is null values, then change it to :\n",
    "1. Median\n",
    "2. dummy value (ex : 'Empty' OR '?')\n",
    "3. mode"
   ]
  },
  {
   "cell_type": "code",
   "execution_count": 12,
   "metadata": {},
   "outputs": [
    {
     "data": {
      "text/plain": [
       "Age                          0\n",
       "Sex                          0\n",
       "Chest-Pain_Type              0\n",
       "Resting_Blood_Pressure      47\n",
       "Serum_Cholestrol            24\n",
       "Fasting_Blood_Sugar_120     78\n",
       "resting_ECG                  2\n",
       "Max-Heart_Rate_Achieved     44\n",
       "Exercise_Induced_Angina     44\n",
       "ST_Depression               49\n",
       "Peak_Exercise              262\n",
       "Number_Major_Vessels       514\n",
       "Thal                       408\n",
       "Diagnosis_HD                 0\n",
       "dtype: int64"
      ]
     },
     "execution_count": 12,
     "metadata": {},
     "output_type": "execute_result"
    }
   ],
   "source": [
    "df.isnull().sum()"
   ]
  },
  {
   "cell_type": "code",
   "execution_count": 13,
   "metadata": {},
   "outputs": [],
   "source": [
    "# RBP, SC, MHRA, STD,  = median\n",
    "# FBS, ecg, EIA, pe, NMV, thal = mode\n",
    "# fbs, ECG , eia, PE,nmv, THAL = 'Empty'\n",
    "rbp_med = df['Resting_Blood_Pressure'].median()\n",
    "sc_med = df['Serum_Cholestrol'].median()\n",
    "mhra_med = df['Max-Heart_Rate_Achieved'].median()\n",
    "std_med = df['ST_Depression'].median()"
   ]
  },
  {
   "cell_type": "code",
   "execution_count": 14,
   "metadata": {},
   "outputs": [],
   "source": [
    "# Fill with median\n",
    "df['Resting_Blood_Pressure'] = df['Resting_Blood_Pressure'].fillna(rbp_med)\n",
    "df['Serum_Cholestrol'] = df['Serum_Cholestrol'].fillna(sc_med)\n",
    "df['Max-Heart_Rate_Achieved'] = df['Max-Heart_Rate_Achieved'].fillna(mhra_med)\n",
    "df['ST_Depression'] = df['ST_Depression'].fillna(std_med)\n",
    "# Others Fill with '?'\n",
    "df = df.fillna('?')"
   ]
  },
  {
   "cell_type": "code",
   "execution_count": 15,
   "metadata": {},
   "outputs": [],
   "source": [
    "rbp_medg = dg['Resting_Blood_Pressure'].median()\n",
    "sc_medg = dg['Serum_Cholestrol'].median()\n",
    "mhra_medg = dg['Max-Heart_Rate_Achieved'].median()\n",
    "std_medg = dg['ST_Depression'].median()"
   ]
  },
  {
   "cell_type": "code",
   "execution_count": 16,
   "metadata": {},
   "outputs": [],
   "source": [
    "# Fill with median\n",
    "dg['Resting_Blood_Pressure'] = dg['Resting_Blood_Pressure'].fillna(rbp_medg)\n",
    "dg['Serum_Cholestrol'] = dg['Serum_Cholestrol'].fillna(sc_medg)\n",
    "dg['Max-Heart_Rate_Achieved'] = dg['Max-Heart_Rate_Achieved'].fillna(mhra_medg)\n",
    "dg['ST_Depression'] = dg['ST_Depression'].fillna(std_medg)\n",
    "# Others Fill with '?'\n",
    "dg = dg.fillna('?')"
   ]
  },
  {
   "cell_type": "code",
   "execution_count": 17,
   "metadata": {},
   "outputs": [
    {
     "data": {
      "text/plain": [
       "Age                        0\n",
       "Sex                        0\n",
       "Chest-Pain_Type            0\n",
       "Resting_Blood_Pressure     0\n",
       "Serum_Cholestrol           0\n",
       "Fasting_Blood_Sugar_120    0\n",
       "resting_ECG                0\n",
       "Max-Heart_Rate_Achieved    0\n",
       "Exercise_Induced_Angina    0\n",
       "ST_Depression              0\n",
       "Peak_Exercise              0\n",
       "Number_Major_Vessels       0\n",
       "Thal                       0\n",
       "dtype: int64"
      ]
     },
     "execution_count": 17,
     "metadata": {},
     "output_type": "execute_result"
    }
   ],
   "source": [
    "dg.isnull().sum()"
   ]
  },
  {
   "cell_type": "code",
   "execution_count": 18,
   "metadata": {},
   "outputs": [
    {
     "data": {
      "text/html": [
       "<div>\n",
       "<style scoped>\n",
       "    .dataframe tbody tr th:only-of-type {\n",
       "        vertical-align: middle;\n",
       "    }\n",
       "\n",
       "    .dataframe tbody tr th {\n",
       "        vertical-align: top;\n",
       "    }\n",
       "\n",
       "    .dataframe thead th {\n",
       "        text-align: right;\n",
       "    }\n",
       "</style>\n",
       "<table border=\"1\" class=\"dataframe\">\n",
       "  <thead>\n",
       "    <tr style=\"text-align: right;\">\n",
       "      <th></th>\n",
       "      <th>Age</th>\n",
       "      <th>Sex</th>\n",
       "      <th>Chest-Pain_Type</th>\n",
       "      <th>Resting_Blood_Pressure</th>\n",
       "      <th>Serum_Cholestrol</th>\n",
       "      <th>Fasting_Blood_Sugar_120</th>\n",
       "      <th>resting_ECG</th>\n",
       "      <th>Max-Heart_Rate_Achieved</th>\n",
       "      <th>Exercise_Induced_Angina</th>\n",
       "      <th>ST_Depression</th>\n",
       "      <th>Peak_Exercise</th>\n",
       "      <th>Number_Major_Vessels</th>\n",
       "      <th>Thal</th>\n",
       "      <th>Diagnosis_HD</th>\n",
       "    </tr>\n",
       "  </thead>\n",
       "  <tbody>\n",
       "    <tr>\n",
       "      <th>0</th>\n",
       "      <td>54</td>\n",
       "      <td>Male</td>\n",
       "      <td>Asymptotic</td>\n",
       "      <td>125.0</td>\n",
       "      <td>216.0</td>\n",
       "      <td>False</td>\n",
       "      <td>normal</td>\n",
       "      <td>140.0</td>\n",
       "      <td>NO</td>\n",
       "      <td>0.0</td>\n",
       "      <td>?</td>\n",
       "      <td>?</td>\n",
       "      <td>?</td>\n",
       "      <td>1</td>\n",
       "    </tr>\n",
       "    <tr>\n",
       "      <th>1</th>\n",
       "      <td>55</td>\n",
       "      <td>Male</td>\n",
       "      <td>Asymptotic</td>\n",
       "      <td>158.0</td>\n",
       "      <td>217.0</td>\n",
       "      <td>False</td>\n",
       "      <td>normal</td>\n",
       "      <td>110.0</td>\n",
       "      <td>YES</td>\n",
       "      <td>2.5</td>\n",
       "      <td>flat</td>\n",
       "      <td>?</td>\n",
       "      <td>?</td>\n",
       "      <td>1</td>\n",
       "    </tr>\n",
       "    <tr>\n",
       "      <th>2</th>\n",
       "      <td>54</td>\n",
       "      <td>Female</td>\n",
       "      <td>Non-Anginal_Pain</td>\n",
       "      <td>135.0</td>\n",
       "      <td>304.0</td>\n",
       "      <td>True</td>\n",
       "      <td>normal</td>\n",
       "      <td>170.0</td>\n",
       "      <td>NO</td>\n",
       "      <td>0.0</td>\n",
       "      <td>upsloping</td>\n",
       "      <td>0</td>\n",
       "      <td>normal</td>\n",
       "      <td>0</td>\n",
       "    </tr>\n",
       "    <tr>\n",
       "      <th>3</th>\n",
       "      <td>48</td>\n",
       "      <td>Female</td>\n",
       "      <td>Non-Anginal_Pain</td>\n",
       "      <td>120.0</td>\n",
       "      <td>195.0</td>\n",
       "      <td>False</td>\n",
       "      <td>normal</td>\n",
       "      <td>125.0</td>\n",
       "      <td>NO</td>\n",
       "      <td>0.0</td>\n",
       "      <td>?</td>\n",
       "      <td>?</td>\n",
       "      <td>?</td>\n",
       "      <td>0</td>\n",
       "    </tr>\n",
       "    <tr>\n",
       "      <th>4</th>\n",
       "      <td>50</td>\n",
       "      <td>Male</td>\n",
       "      <td>Asymptotic</td>\n",
       "      <td>120.0</td>\n",
       "      <td>0.0</td>\n",
       "      <td>False</td>\n",
       "      <td>having_ST-T_wave_abnormality</td>\n",
       "      <td>156.0</td>\n",
       "      <td>YES</td>\n",
       "      <td>0.0</td>\n",
       "      <td>upsloping</td>\n",
       "      <td>?</td>\n",
       "      <td>fixed_defect</td>\n",
       "      <td>3</td>\n",
       "    </tr>\n",
       "  </tbody>\n",
       "</table>\n",
       "</div>"
      ],
      "text/plain": [
       "   Age     Sex   Chest-Pain_Type  Resting_Blood_Pressure  Serum_Cholestrol  \\\n",
       "0   54    Male        Asymptotic                   125.0             216.0   \n",
       "1   55    Male        Asymptotic                   158.0             217.0   \n",
       "2   54  Female  Non-Anginal_Pain                   135.0             304.0   \n",
       "3   48  Female  Non-Anginal_Pain                   120.0             195.0   \n",
       "4   50    Male        Asymptotic                   120.0               0.0   \n",
       "\n",
       "  Fasting_Blood_Sugar_120                   resting_ECG  \\\n",
       "0                   False                        normal   \n",
       "1                   False                        normal   \n",
       "2                    True                        normal   \n",
       "3                   False                        normal   \n",
       "4                   False  having_ST-T_wave_abnormality   \n",
       "\n",
       "   Max-Heart_Rate_Achieved Exercise_Induced_Angina  ST_Depression  \\\n",
       "0                    140.0                      NO            0.0   \n",
       "1                    110.0                     YES            2.5   \n",
       "2                    170.0                      NO            0.0   \n",
       "3                    125.0                      NO            0.0   \n",
       "4                    156.0                     YES            0.0   \n",
       "\n",
       "  Peak_Exercise Number_Major_Vessels          Thal  Diagnosis_HD  \n",
       "0             ?                    ?             ?             1  \n",
       "1          flat                    ?             ?             1  \n",
       "2     upsloping                    0        normal             0  \n",
       "3             ?                    ?             ?             0  \n",
       "4     upsloping                    ?  fixed_defect             3  "
      ]
     },
     "execution_count": 18,
     "metadata": {},
     "output_type": "execute_result"
    }
   ],
   "source": [
    "df.head()"
   ]
  },
  {
   "cell_type": "markdown",
   "metadata": {},
   "source": [
    "### Data Train"
   ]
  },
  {
   "cell_type": "code",
   "execution_count": 19,
   "metadata": {},
   "outputs": [],
   "source": [
    "from scipy.stats import ttest_ind"
   ]
  },
  {
   "cell_type": "code",
   "execution_count": 20,
   "metadata": {},
   "outputs": [],
   "source": [
    "y_train = df['Diagnosis_HD']  # yang ingin diprediksi\n",
    "X_train = df.drop(['Diagnosis_HD'], axis = 1)"
   ]
  },
  {
   "cell_type": "markdown",
   "metadata": {},
   "source": [
    "### Create Data Split Train and Data Split Test(80:20)"
   ]
  },
  {
   "cell_type": "code",
   "execution_count": 21,
   "metadata": {},
   "outputs": [
    {
     "data": {
      "text/html": [
       "<div>\n",
       "<style scoped>\n",
       "    .dataframe tbody tr th:only-of-type {\n",
       "        vertical-align: middle;\n",
       "    }\n",
       "\n",
       "    .dataframe tbody tr th {\n",
       "        vertical-align: top;\n",
       "    }\n",
       "\n",
       "    .dataframe thead th {\n",
       "        text-align: right;\n",
       "    }\n",
       "</style>\n",
       "<table border=\"1\" class=\"dataframe\">\n",
       "  <thead>\n",
       "    <tr style=\"text-align: right;\">\n",
       "      <th></th>\n",
       "      <th>Age</th>\n",
       "      <th>Sex</th>\n",
       "      <th>Chest-Pain_Type</th>\n",
       "      <th>Resting_Blood_Pressure</th>\n",
       "      <th>Serum_Cholestrol</th>\n",
       "      <th>Fasting_Blood_Sugar_120</th>\n",
       "      <th>resting_ECG</th>\n",
       "      <th>Max-Heart_Rate_Achieved</th>\n",
       "      <th>Exercise_Induced_Angina</th>\n",
       "      <th>ST_Depression</th>\n",
       "      <th>Peak_Exercise</th>\n",
       "      <th>Number_Major_Vessels</th>\n",
       "      <th>Thal</th>\n",
       "    </tr>\n",
       "  </thead>\n",
       "  <tbody>\n",
       "    <tr>\n",
       "      <th>12</th>\n",
       "      <td>61</td>\n",
       "      <td>Male</td>\n",
       "      <td>Typical_Angina</td>\n",
       "      <td>142.0</td>\n",
       "      <td>200.0</td>\n",
       "      <td>True</td>\n",
       "      <td>having_ST-T_wave_abnormality</td>\n",
       "      <td>100.0</td>\n",
       "      <td>NO</td>\n",
       "      <td>1.5</td>\n",
       "      <td>downsloping</td>\n",
       "      <td>?</td>\n",
       "      <td>?</td>\n",
       "    </tr>\n",
       "    <tr>\n",
       "      <th>444</th>\n",
       "      <td>38</td>\n",
       "      <td>Male</td>\n",
       "      <td>Atypical_Angina</td>\n",
       "      <td>140.0</td>\n",
       "      <td>297.0</td>\n",
       "      <td>False</td>\n",
       "      <td>normal</td>\n",
       "      <td>150.0</td>\n",
       "      <td>NO</td>\n",
       "      <td>0.0</td>\n",
       "      <td>?</td>\n",
       "      <td>?</td>\n",
       "      <td>?</td>\n",
       "    </tr>\n",
       "    <tr>\n",
       "      <th>17</th>\n",
       "      <td>57</td>\n",
       "      <td>Male</td>\n",
       "      <td>Asymptotic</td>\n",
       "      <td>150.0</td>\n",
       "      <td>276.0</td>\n",
       "      <td>False</td>\n",
       "      <td>left_ventricular_hyperthrophy</td>\n",
       "      <td>112.0</td>\n",
       "      <td>YES</td>\n",
       "      <td>6.0</td>\n",
       "      <td>flat</td>\n",
       "      <td>1</td>\n",
       "      <td>fixed_defect</td>\n",
       "    </tr>\n",
       "    <tr>\n",
       "      <th>224</th>\n",
       "      <td>57</td>\n",
       "      <td>Male</td>\n",
       "      <td>Atypical_Angina</td>\n",
       "      <td>180.0</td>\n",
       "      <td>285.0</td>\n",
       "      <td>True</td>\n",
       "      <td>having_ST-T_wave_abnormality</td>\n",
       "      <td>120.0</td>\n",
       "      <td>NO</td>\n",
       "      <td>0.8</td>\n",
       "      <td>?</td>\n",
       "      <td>?</td>\n",
       "      <td>?</td>\n",
       "    </tr>\n",
       "    <tr>\n",
       "      <th>201</th>\n",
       "      <td>46</td>\n",
       "      <td>Male</td>\n",
       "      <td>Asymptotic</td>\n",
       "      <td>120.0</td>\n",
       "      <td>231.0</td>\n",
       "      <td>False</td>\n",
       "      <td>normal</td>\n",
       "      <td>115.0</td>\n",
       "      <td>YES</td>\n",
       "      <td>0.0</td>\n",
       "      <td>?</td>\n",
       "      <td>?</td>\n",
       "      <td>?</td>\n",
       "    </tr>\n",
       "  </tbody>\n",
       "</table>\n",
       "</div>"
      ],
      "text/plain": [
       "     Age   Sex  Chest-Pain_Type  Resting_Blood_Pressure  Serum_Cholestrol  \\\n",
       "12    61  Male   Typical_Angina                   142.0             200.0   \n",
       "444   38  Male  Atypical_Angina                   140.0             297.0   \n",
       "17    57  Male       Asymptotic                   150.0             276.0   \n",
       "224   57  Male  Atypical_Angina                   180.0             285.0   \n",
       "201   46  Male       Asymptotic                   120.0             231.0   \n",
       "\n",
       "    Fasting_Blood_Sugar_120                    resting_ECG  \\\n",
       "12                     True   having_ST-T_wave_abnormality   \n",
       "444                   False                         normal   \n",
       "17                    False  left_ventricular_hyperthrophy   \n",
       "224                    True   having_ST-T_wave_abnormality   \n",
       "201                   False                         normal   \n",
       "\n",
       "     Max-Heart_Rate_Achieved Exercise_Induced_Angina  ST_Depression  \\\n",
       "12                     100.0                      NO            1.5   \n",
       "444                    150.0                      NO            0.0   \n",
       "17                     112.0                     YES            6.0   \n",
       "224                    120.0                      NO            0.8   \n",
       "201                    115.0                     YES            0.0   \n",
       "\n",
       "    Peak_Exercise Number_Major_Vessels          Thal  \n",
       "12    downsloping                    ?             ?  \n",
       "444             ?                    ?             ?  \n",
       "17           flat                    1  fixed_defect  \n",
       "224             ?                    ?             ?  \n",
       "201             ?                    ?             ?  "
      ]
     },
     "execution_count": 21,
     "metadata": {},
     "output_type": "execute_result"
    }
   ],
   "source": [
    "from sklearn.model_selection import train_test_split\n",
    "X_train_split, X_test_split, y_train_split, y_test_split = train_test_split(X_train, y_train, test_size = 0.2)\n",
    "X_train_split.head()"
   ]
  },
  {
   "cell_type": "code",
   "execution_count": 22,
   "metadata": {},
   "outputs": [],
   "source": [
    "# Class count\n",
    "count_class_0, count_class_1,count_class_2, count_class_3, count_class_4 = df.Diagnosis_HD.value_counts()\n",
    "\n",
    "# Divide by class\n",
    "df_class_0 = df[df['Diagnosis_HD'] == 0]\n",
    "df_class_1 = df[df['Diagnosis_HD'] == 1]\n",
    "df_class_2 = df[df['Diagnosis_HD'] == 2]\n",
    "df_class_3 = df[df['Diagnosis_HD'] == 3]\n",
    "df_class_4 = df[df['Diagnosis_HD'] == 4]"
   ]
  },
  {
   "cell_type": "code",
   "execution_count": 23,
   "metadata": {},
   "outputs": [
    {
     "name": "stdout",
     "output_type": "stream",
     "text": [
      "Random over-sampling:\n",
      "4    349\n",
      "3    349\n",
      "2    349\n",
      "1    349\n",
      "0    349\n",
      "Name: Diagnosis_HD, dtype: int64\n"
     ]
    },
    {
     "data": {
      "image/png": "[encoded data removed]",
      "text/plain": [
       "<Figure size 432x288 with 1 Axes>"
      ]
     },
     "metadata": {},
     "output_type": "display_data"
    }
   ],
   "source": [
    "df_class_1_over = df_class_1.sample(count_class_0, replace=True)\n",
    "df_class_2_over = df_class_2.sample(count_class_0, replace=True)\n",
    "df_class_3_over = df_class_3.sample(count_class_0, replace=True)\n",
    "df_class_4_over = df_class_4.sample(count_class_0, replace=True)\n",
    "df_over = pd.concat([df_class_0, df_class_1_over, df_class_2_over, df_class_3_over, df_class_4_over], axis=0)\n",
    "\n",
    "print('Random over-sampling:')\n",
    "print(df_over.Diagnosis_HD.value_counts())\n",
    "\n",
    "df_over.Diagnosis_HD.value_counts().plot(kind='bar', title='Count (target)');"
   ]
  },
  {
   "cell_type": "code",
   "execution_count": 24,
   "metadata": {},
   "outputs": [],
   "source": [
    "X_train_split = df_over.drop(['Diagnosis_HD'], axis = 1)\n",
    "y_train_split = df_over['Diagnosis_HD']"
   ]
  },
  {
   "cell_type": "code",
   "execution_count": 25,
   "metadata": {},
   "outputs": [],
   "source": [
    "X_train_split = df_over.drop(['Diagnosis_HD'], axis = 1)\n",
    "y_train_split = df_over['Diagnosis_HD']"
   ]
  },
  {
   "cell_type": "markdown",
   "metadata": {},
   "source": [
    "## Data Processing"
   ]
  },
  {
   "cell_type": "markdown",
   "metadata": {},
   "source": [
    "### Feature Engineering"
   ]
  },
  {
   "cell_type": "code",
   "execution_count": 26,
   "metadata": {},
   "outputs": [
    {
     "data": {
      "text/html": [
       "<div>\n",
       "<style scoped>\n",
       "    .dataframe tbody tr th:only-of-type {\n",
       "        vertical-align: middle;\n",
       "    }\n",
       "\n",
       "    .dataframe tbody tr th {\n",
       "        vertical-align: top;\n",
       "    }\n",
       "\n",
       "    .dataframe thead th {\n",
       "        text-align: right;\n",
       "    }\n",
       "</style>\n",
       "<table border=\"1\" class=\"dataframe\">\n",
       "  <thead>\n",
       "    <tr style=\"text-align: right;\">\n",
       "      <th></th>\n",
       "      <th>Age</th>\n",
       "      <th>Sex</th>\n",
       "      <th>Chest-Pain_Type</th>\n",
       "      <th>Resting_Blood_Pressure</th>\n",
       "      <th>Serum_Cholestrol</th>\n",
       "      <th>Fasting_Blood_Sugar_120</th>\n",
       "      <th>resting_ECG</th>\n",
       "      <th>Max-Heart_Rate_Achieved</th>\n",
       "      <th>Exercise_Induced_Angina</th>\n",
       "      <th>ST_Depression</th>\n",
       "      <th>Peak_Exercise</th>\n",
       "      <th>Number_Major_Vessels</th>\n",
       "      <th>Thal</th>\n",
       "      <th>Age_range</th>\n",
       "    </tr>\n",
       "  </thead>\n",
       "  <tbody>\n",
       "    <tr>\n",
       "      <th>2</th>\n",
       "      <td>54</td>\n",
       "      <td>Female</td>\n",
       "      <td>Non-Anginal_Pain</td>\n",
       "      <td>135.0</td>\n",
       "      <td>304.0</td>\n",
       "      <td>True</td>\n",
       "      <td>normal</td>\n",
       "      <td>170.0</td>\n",
       "      <td>NO</td>\n",
       "      <td>0.0</td>\n",
       "      <td>upsloping</td>\n",
       "      <td>0</td>\n",
       "      <td>normal</td>\n",
       "      <td>50 - 59</td>\n",
       "    </tr>\n",
       "    <tr>\n",
       "      <th>3</th>\n",
       "      <td>48</td>\n",
       "      <td>Female</td>\n",
       "      <td>Non-Anginal_Pain</td>\n",
       "      <td>120.0</td>\n",
       "      <td>195.0</td>\n",
       "      <td>False</td>\n",
       "      <td>normal</td>\n",
       "      <td>125.0</td>\n",
       "      <td>NO</td>\n",
       "      <td>0.0</td>\n",
       "      <td>?</td>\n",
       "      <td>?</td>\n",
       "      <td>?</td>\n",
       "      <td>40 - 49</td>\n",
       "    </tr>\n",
       "    <tr>\n",
       "      <th>5</th>\n",
       "      <td>64</td>\n",
       "      <td>Female</td>\n",
       "      <td>Asymptotic</td>\n",
       "      <td>130.0</td>\n",
       "      <td>303.0</td>\n",
       "      <td>False</td>\n",
       "      <td>normal</td>\n",
       "      <td>122.0</td>\n",
       "      <td>NO</td>\n",
       "      <td>2.0</td>\n",
       "      <td>flat</td>\n",
       "      <td>2</td>\n",
       "      <td>normal</td>\n",
       "      <td>60 - 69</td>\n",
       "    </tr>\n",
       "    <tr>\n",
       "      <th>7</th>\n",
       "      <td>58</td>\n",
       "      <td>Male</td>\n",
       "      <td>Atypical_Angina</td>\n",
       "      <td>130.0</td>\n",
       "      <td>251.0</td>\n",
       "      <td>False</td>\n",
       "      <td>normal</td>\n",
       "      <td>110.0</td>\n",
       "      <td>NO</td>\n",
       "      <td>0.0</td>\n",
       "      <td>?</td>\n",
       "      <td>?</td>\n",
       "      <td>?</td>\n",
       "      <td>50 - 59</td>\n",
       "    </tr>\n",
       "    <tr>\n",
       "      <th>8</th>\n",
       "      <td>42</td>\n",
       "      <td>Male</td>\n",
       "      <td>Atypical_Angina</td>\n",
       "      <td>150.0</td>\n",
       "      <td>268.0</td>\n",
       "      <td>False</td>\n",
       "      <td>normal</td>\n",
       "      <td>136.0</td>\n",
       "      <td>NO</td>\n",
       "      <td>0.0</td>\n",
       "      <td>?</td>\n",
       "      <td>?</td>\n",
       "      <td>?</td>\n",
       "      <td>40 - 49</td>\n",
       "    </tr>\n",
       "  </tbody>\n",
       "</table>\n",
       "</div>"
      ],
      "text/plain": [
       "   Age     Sex   Chest-Pain_Type  Resting_Blood_Pressure  Serum_Cholestrol  \\\n",
       "2   54  Female  Non-Anginal_Pain                   135.0             304.0   \n",
       "3   48  Female  Non-Anginal_Pain                   120.0             195.0   \n",
       "5   64  Female        Asymptotic                   130.0             303.0   \n",
       "7   58    Male   Atypical_Angina                   130.0             251.0   \n",
       "8   42    Male   Atypical_Angina                   150.0             268.0   \n",
       "\n",
       "  Fasting_Blood_Sugar_120 resting_ECG  Max-Heart_Rate_Achieved  \\\n",
       "2                    True      normal                    170.0   \n",
       "3                   False      normal                    125.0   \n",
       "5                   False      normal                    122.0   \n",
       "7                   False      normal                    110.0   \n",
       "8                   False      normal                    136.0   \n",
       "\n",
       "  Exercise_Induced_Angina  ST_Depression Peak_Exercise Number_Major_Vessels  \\\n",
       "2                      NO            0.0     upsloping                    0   \n",
       "3                      NO            0.0             ?                    ?   \n",
       "5                      NO            2.0          flat                    2   \n",
       "7                      NO            0.0             ?                    ?   \n",
       "8                      NO            0.0             ?                    ?   \n",
       "\n",
       "     Thal Age_range  \n",
       "2  normal   50 - 59  \n",
       "3       ?   40 - 49  \n",
       "5  normal   60 - 69  \n",
       "7       ?   50 - 59  \n",
       "8       ?   40 - 49  "
      ]
     },
     "execution_count": 26,
     "metadata": {},
     "output_type": "execute_result"
    }
   ],
   "source": [
    "conditions = [\n",
    "    (X_train_split['Age'] < 30),\n",
    "    (X_train_split['Age'] >= 30) & (X_train_split['Age'] < 40),\n",
    "    (X_train_split['Age'] >= 40) & (X_train_split['Age'] < 50),\n",
    "    (X_train_split['Age'] >= 50) & (X_train_split['Age'] < 60),\n",
    "    (X_train_split['Age'] >= 60) & (X_train_split['Age'] < 70),\n",
    "    (X_train_split['Age'] >= 70) ]\n",
    "choices = ['< 30', '30 - 39', '40 - 49', '50 - 59', '60 - 69', '> 70']\n",
    "X_train_split['Age_range'] = np.select(conditions, choices, default='50 - 59')\n",
    "X_train_split.head()"
   ]
  },
  {
   "cell_type": "code",
   "execution_count": 27,
   "metadata": {},
   "outputs": [
    {
     "name": "stderr",
     "output_type": "stream",
     "text": [
      "c:\\users\\aldo azali\\appdata\\local\\programs\\python\\python36-32\\lib\\site-packages\\ipykernel_launcher.py:9: SettingWithCopyWarning: \n",
      "A value is trying to be set on a copy of a slice from a DataFrame.\n",
      "Try using .loc[row_indexer,col_indexer] = value instead\n",
      "\n",
      "See the caveats in the documentation: http://pandas.pydata.org/pandas-docs/stable/indexing.html#indexing-view-versus-copy\n",
      "  if __name__ == '__main__':\n"
     ]
    },
    {
     "data": {
      "text/html": [
       "<div>\n",
       "<style scoped>\n",
       "    .dataframe tbody tr th:only-of-type {\n",
       "        vertical-align: middle;\n",
       "    }\n",
       "\n",
       "    .dataframe tbody tr th {\n",
       "        vertical-align: top;\n",
       "    }\n",
       "\n",
       "    .dataframe thead th {\n",
       "        text-align: right;\n",
       "    }\n",
       "</style>\n",
       "<table border=\"1\" class=\"dataframe\">\n",
       "  <thead>\n",
       "    <tr style=\"text-align: right;\">\n",
       "      <th></th>\n",
       "      <th>Age</th>\n",
       "      <th>Sex</th>\n",
       "      <th>Chest-Pain_Type</th>\n",
       "      <th>Resting_Blood_Pressure</th>\n",
       "      <th>Serum_Cholestrol</th>\n",
       "      <th>Fasting_Blood_Sugar_120</th>\n",
       "      <th>resting_ECG</th>\n",
       "      <th>Max-Heart_Rate_Achieved</th>\n",
       "      <th>Exercise_Induced_Angina</th>\n",
       "      <th>ST_Depression</th>\n",
       "      <th>Peak_Exercise</th>\n",
       "      <th>Number_Major_Vessels</th>\n",
       "      <th>Thal</th>\n",
       "      <th>Age_range</th>\n",
       "    </tr>\n",
       "  </thead>\n",
       "  <tbody>\n",
       "    <tr>\n",
       "      <th>500</th>\n",
       "      <td>63</td>\n",
       "      <td>Male</td>\n",
       "      <td>Typical_Angina</td>\n",
       "      <td>145.0</td>\n",
       "      <td>233.0</td>\n",
       "      <td>True</td>\n",
       "      <td>left_ventricular_hyperthrophy</td>\n",
       "      <td>150.0</td>\n",
       "      <td>NO</td>\n",
       "      <td>23.0</td>\n",
       "      <td>downsloping</td>\n",
       "      <td>0</td>\n",
       "      <td>fixed_defect</td>\n",
       "      <td>60 - 69</td>\n",
       "    </tr>\n",
       "    <tr>\n",
       "      <th>52</th>\n",
       "      <td>55</td>\n",
       "      <td>Male</td>\n",
       "      <td>Atypical_Angina</td>\n",
       "      <td>130.0</td>\n",
       "      <td>262.0</td>\n",
       "      <td>False</td>\n",
       "      <td>normal</td>\n",
       "      <td>155.0</td>\n",
       "      <td>NO</td>\n",
       "      <td>0.0</td>\n",
       "      <td>upsloping</td>\n",
       "      <td>0</td>\n",
       "      <td>normal</td>\n",
       "      <td>50 - 59</td>\n",
       "    </tr>\n",
       "    <tr>\n",
       "      <th>443</th>\n",
       "      <td>43</td>\n",
       "      <td>Male</td>\n",
       "      <td>Asymptotic</td>\n",
       "      <td>122.0</td>\n",
       "      <td>0.0</td>\n",
       "      <td>False</td>\n",
       "      <td>normal</td>\n",
       "      <td>120.0</td>\n",
       "      <td>NO</td>\n",
       "      <td>0.5</td>\n",
       "      <td>upsloping</td>\n",
       "      <td>?</td>\n",
       "      <td>?</td>\n",
       "      <td>40 - 49</td>\n",
       "    </tr>\n",
       "    <tr>\n",
       "      <th>227</th>\n",
       "      <td>47</td>\n",
       "      <td>Male</td>\n",
       "      <td>Non-Anginal_Pain</td>\n",
       "      <td>110.0</td>\n",
       "      <td>0.0</td>\n",
       "      <td>?</td>\n",
       "      <td>normal</td>\n",
       "      <td>120.0</td>\n",
       "      <td>YES</td>\n",
       "      <td>0.0</td>\n",
       "      <td>?</td>\n",
       "      <td>?</td>\n",
       "      <td>normal</td>\n",
       "      <td>40 - 49</td>\n",
       "    </tr>\n",
       "    <tr>\n",
       "      <th>441</th>\n",
       "      <td>55</td>\n",
       "      <td>Male</td>\n",
       "      <td>Atypical_Angina</td>\n",
       "      <td>120.0</td>\n",
       "      <td>256.0</td>\n",
       "      <td>True</td>\n",
       "      <td>normal</td>\n",
       "      <td>137.0</td>\n",
       "      <td>NO</td>\n",
       "      <td>0.0</td>\n",
       "      <td>?</td>\n",
       "      <td>?</td>\n",
       "      <td>reversable_defect</td>\n",
       "      <td>50 - 59</td>\n",
       "    </tr>\n",
       "  </tbody>\n",
       "</table>\n",
       "</div>"
      ],
      "text/plain": [
       "     Age   Sex   Chest-Pain_Type  Resting_Blood_Pressure  Serum_Cholestrol  \\\n",
       "500   63  Male    Typical_Angina                   145.0             233.0   \n",
       "52    55  Male   Atypical_Angina                   130.0             262.0   \n",
       "443   43  Male        Asymptotic                   122.0               0.0   \n",
       "227   47  Male  Non-Anginal_Pain                   110.0               0.0   \n",
       "441   55  Male   Atypical_Angina                   120.0             256.0   \n",
       "\n",
       "    Fasting_Blood_Sugar_120                    resting_ECG  \\\n",
       "500                    True  left_ventricular_hyperthrophy   \n",
       "52                    False                         normal   \n",
       "443                   False                         normal   \n",
       "227                       ?                         normal   \n",
       "441                    True                         normal   \n",
       "\n",
       "     Max-Heart_Rate_Achieved Exercise_Induced_Angina  ST_Depression  \\\n",
       "500                    150.0                      NO           23.0   \n",
       "52                     155.0                      NO            0.0   \n",
       "443                    120.0                      NO            0.5   \n",
       "227                    120.0                     YES            0.0   \n",
       "441                    137.0                      NO            0.0   \n",
       "\n",
       "    Peak_Exercise Number_Major_Vessels               Thal Age_range  \n",
       "500   downsloping                    0       fixed_defect   60 - 69  \n",
       "52      upsloping                    0             normal   50 - 59  \n",
       "443     upsloping                    ?                  ?   40 - 49  \n",
       "227             ?                    ?             normal   40 - 49  \n",
       "441             ?                    ?  reversable_defect   50 - 59  "
      ]
     },
     "execution_count": 27,
     "metadata": {},
     "output_type": "execute_result"
    }
   ],
   "source": [
    "condition = [\n",
    "    (X_test_split['Age'] < 30),\n",
    "    (X_test_split['Age'] >= 30) & (X_test_split['Age'] < 40),\n",
    "    (X_test_split['Age'] >= 40) & (X_test_split['Age'] < 50),\n",
    "    (X_test_split['Age'] >= 50) & (X_test_split['Age'] < 60),\n",
    "    (X_test_split['Age'] >= 60) & (X_test_split['Age'] < 70),\n",
    "    (X_test_split['Age'] >= 70)]\n",
    "choice = ['< 30', '30 - 39', '40 - 49', '50 - 59', '60 - 69', '> 70']\n",
    "X_test_split['Age_range'] = np.select(condition, choice, default='50 - 59')\n",
    "X_test_split.head()"
   ]
  },
  {
   "cell_type": "code",
   "execution_count": 28,
   "metadata": {},
   "outputs": [
    {
     "data": {
      "text/html": [
       "<div>\n",
       "<style scoped>\n",
       "    .dataframe tbody tr th:only-of-type {\n",
       "        vertical-align: middle;\n",
       "    }\n",
       "\n",
       "    .dataframe tbody tr th {\n",
       "        vertical-align: top;\n",
       "    }\n",
       "\n",
       "    .dataframe thead th {\n",
       "        text-align: right;\n",
       "    }\n",
       "</style>\n",
       "<table border=\"1\" class=\"dataframe\">\n",
       "  <thead>\n",
       "    <tr style=\"text-align: right;\">\n",
       "      <th></th>\n",
       "      <th>Age</th>\n",
       "      <th>Sex</th>\n",
       "      <th>Chest-Pain_Type</th>\n",
       "      <th>Resting_Blood_Pressure</th>\n",
       "      <th>Serum_Cholestrol</th>\n",
       "      <th>Fasting_Blood_Sugar_120</th>\n",
       "      <th>resting_ECG</th>\n",
       "      <th>Max-Heart_Rate_Achieved</th>\n",
       "      <th>Exercise_Induced_Angina</th>\n",
       "      <th>ST_Depression</th>\n",
       "      <th>Peak_Exercise</th>\n",
       "      <th>Number_Major_Vessels</th>\n",
       "      <th>Thal</th>\n",
       "      <th>Age_range</th>\n",
       "    </tr>\n",
       "  </thead>\n",
       "  <tbody>\n",
       "    <tr>\n",
       "      <th>0</th>\n",
       "      <td>54</td>\n",
       "      <td>Male</td>\n",
       "      <td>Asymptotic</td>\n",
       "      <td>125.0</td>\n",
       "      <td>216.0</td>\n",
       "      <td>False</td>\n",
       "      <td>normal</td>\n",
       "      <td>140.0</td>\n",
       "      <td>NO</td>\n",
       "      <td>0.0</td>\n",
       "      <td>?</td>\n",
       "      <td>?</td>\n",
       "      <td>?</td>\n",
       "      <td>50 - 59</td>\n",
       "    </tr>\n",
       "    <tr>\n",
       "      <th>1</th>\n",
       "      <td>55</td>\n",
       "      <td>Male</td>\n",
       "      <td>Asymptotic</td>\n",
       "      <td>158.0</td>\n",
       "      <td>217.0</td>\n",
       "      <td>False</td>\n",
       "      <td>normal</td>\n",
       "      <td>110.0</td>\n",
       "      <td>YES</td>\n",
       "      <td>2.5</td>\n",
       "      <td>flat</td>\n",
       "      <td>?</td>\n",
       "      <td>?</td>\n",
       "      <td>50 - 59</td>\n",
       "    </tr>\n",
       "    <tr>\n",
       "      <th>2</th>\n",
       "      <td>54</td>\n",
       "      <td>Female</td>\n",
       "      <td>Non-Anginal_Pain</td>\n",
       "      <td>135.0</td>\n",
       "      <td>304.0</td>\n",
       "      <td>True</td>\n",
       "      <td>normal</td>\n",
       "      <td>170.0</td>\n",
       "      <td>NO</td>\n",
       "      <td>0.0</td>\n",
       "      <td>upsloping</td>\n",
       "      <td>0</td>\n",
       "      <td>normal</td>\n",
       "      <td>50 - 59</td>\n",
       "    </tr>\n",
       "    <tr>\n",
       "      <th>3</th>\n",
       "      <td>48</td>\n",
       "      <td>Female</td>\n",
       "      <td>Non-Anginal_Pain</td>\n",
       "      <td>120.0</td>\n",
       "      <td>195.0</td>\n",
       "      <td>False</td>\n",
       "      <td>normal</td>\n",
       "      <td>125.0</td>\n",
       "      <td>NO</td>\n",
       "      <td>0.0</td>\n",
       "      <td>?</td>\n",
       "      <td>?</td>\n",
       "      <td>?</td>\n",
       "      <td>40 - 49</td>\n",
       "    </tr>\n",
       "    <tr>\n",
       "      <th>4</th>\n",
       "      <td>50</td>\n",
       "      <td>Male</td>\n",
       "      <td>Asymptotic</td>\n",
       "      <td>120.0</td>\n",
       "      <td>0.0</td>\n",
       "      <td>False</td>\n",
       "      <td>having_ST-T_wave_abnormality</td>\n",
       "      <td>156.0</td>\n",
       "      <td>YES</td>\n",
       "      <td>0.0</td>\n",
       "      <td>upsloping</td>\n",
       "      <td>?</td>\n",
       "      <td>fixed_defect</td>\n",
       "      <td>50 - 59</td>\n",
       "    </tr>\n",
       "  </tbody>\n",
       "</table>\n",
       "</div>"
      ],
      "text/plain": [
       "   Age     Sex   Chest-Pain_Type  Resting_Blood_Pressure  Serum_Cholestrol  \\\n",
       "0   54    Male        Asymptotic                   125.0             216.0   \n",
       "1   55    Male        Asymptotic                   158.0             217.0   \n",
       "2   54  Female  Non-Anginal_Pain                   135.0             304.0   \n",
       "3   48  Female  Non-Anginal_Pain                   120.0             195.0   \n",
       "4   50    Male        Asymptotic                   120.0               0.0   \n",
       "\n",
       "  Fasting_Blood_Sugar_120                   resting_ECG  \\\n",
       "0                   False                        normal   \n",
       "1                   False                        normal   \n",
       "2                    True                        normal   \n",
       "3                   False                        normal   \n",
       "4                   False  having_ST-T_wave_abnormality   \n",
       "\n",
       "   Max-Heart_Rate_Achieved Exercise_Induced_Angina  ST_Depression  \\\n",
       "0                    140.0                      NO            0.0   \n",
       "1                    110.0                     YES            2.5   \n",
       "2                    170.0                      NO            0.0   \n",
       "3                    125.0                      NO            0.0   \n",
       "4                    156.0                     YES            0.0   \n",
       "\n",
       "  Peak_Exercise Number_Major_Vessels          Thal Age_range  \n",
       "0             ?                    ?             ?   50 - 59  \n",
       "1          flat                    ?             ?   50 - 59  \n",
       "2     upsloping                    0        normal   50 - 59  \n",
       "3             ?                    ?             ?   40 - 49  \n",
       "4     upsloping                    ?  fixed_defect   50 - 59  "
      ]
     },
     "execution_count": 28,
     "metadata": {},
     "output_type": "execute_result"
    }
   ],
   "source": [
    "conditions = [\n",
    "    (X_train['Age'] < 30),\n",
    "    (X_train['Age'] >= 30) & (X_train['Age'] < 40),\n",
    "    (X_train['Age'] >= 40) & (X_train['Age'] < 50),\n",
    "    (X_train['Age'] >= 50) & (X_train['Age'] < 60),\n",
    "    (X_train['Age'] >= 60) & (X_train['Age'] < 70),\n",
    "    (X_train['Age'] >= 70)]\n",
    "choices = ['< 30', '30 - 39', '40 - 49', '50 - 59', '60 - 69', '> 70']\n",
    "X_train['Age_range'] = np.select(conditions, choices, default='50 - 59')\n",
    "X_train.head()"
   ]
  },
  {
   "cell_type": "markdown",
   "metadata": {},
   "source": [
    "### Make Dummies"
   ]
  },
  {
   "cell_type": "code",
   "execution_count": 29,
   "metadata": {},
   "outputs": [],
   "source": [
    "X_train_split = pd.get_dummies(X_train_split)\n",
    "X_test_split = pd.get_dummies(X_test_split)"
   ]
  },
  {
   "cell_type": "code",
   "execution_count": 30,
   "metadata": {
    "scrolled": true
   },
   "outputs": [
    {
     "data": {
      "text/html": [
       "<div>\n",
       "<style scoped>\n",
       "    .dataframe tbody tr th:only-of-type {\n",
       "        vertical-align: middle;\n",
       "    }\n",
       "\n",
       "    .dataframe tbody tr th {\n",
       "        vertical-align: top;\n",
       "    }\n",
       "\n",
       "    .dataframe thead th {\n",
       "        text-align: right;\n",
       "    }\n",
       "</style>\n",
       "<table border=\"1\" class=\"dataframe\">\n",
       "  <thead>\n",
       "    <tr style=\"text-align: right;\">\n",
       "      <th></th>\n",
       "      <th>Age</th>\n",
       "      <th>Resting_Blood_Pressure</th>\n",
       "      <th>Serum_Cholestrol</th>\n",
       "      <th>Max-Heart_Rate_Achieved</th>\n",
       "      <th>ST_Depression</th>\n",
       "      <th>Sex_Female</th>\n",
       "      <th>Sex_Male</th>\n",
       "      <th>Chest-Pain_Type_Asymptotic</th>\n",
       "      <th>Chest-Pain_Type_Atypical_Angina</th>\n",
       "      <th>Chest-Pain_Type_Non-Anginal_Pain</th>\n",
       "      <th>...</th>\n",
       "      <th>Thal_?</th>\n",
       "      <th>Thal_fixed_defect</th>\n",
       "      <th>Thal_normal</th>\n",
       "      <th>Thal_reversable_defect</th>\n",
       "      <th>Age_range_30 - 39</th>\n",
       "      <th>Age_range_40 - 49</th>\n",
       "      <th>Age_range_50 - 59</th>\n",
       "      <th>Age_range_60 - 69</th>\n",
       "      <th>Age_range_&lt; 30</th>\n",
       "      <th>Age_range_&gt; 70</th>\n",
       "    </tr>\n",
       "  </thead>\n",
       "  <tbody>\n",
       "    <tr>\n",
       "      <th>2</th>\n",
       "      <td>54</td>\n",
       "      <td>135.0</td>\n",
       "      <td>304.0</td>\n",
       "      <td>170.0</td>\n",
       "      <td>0.0</td>\n",
       "      <td>1</td>\n",
       "      <td>0</td>\n",
       "      <td>0</td>\n",
       "      <td>0</td>\n",
       "      <td>1</td>\n",
       "      <td>...</td>\n",
       "      <td>0</td>\n",
       "      <td>0</td>\n",
       "      <td>1</td>\n",
       "      <td>0</td>\n",
       "      <td>0</td>\n",
       "      <td>0</td>\n",
       "      <td>1</td>\n",
       "      <td>0</td>\n",
       "      <td>0</td>\n",
       "      <td>0</td>\n",
       "    </tr>\n",
       "    <tr>\n",
       "      <th>3</th>\n",
       "      <td>48</td>\n",
       "      <td>120.0</td>\n",
       "      <td>195.0</td>\n",
       "      <td>125.0</td>\n",
       "      <td>0.0</td>\n",
       "      <td>1</td>\n",
       "      <td>0</td>\n",
       "      <td>0</td>\n",
       "      <td>0</td>\n",
       "      <td>1</td>\n",
       "      <td>...</td>\n",
       "      <td>1</td>\n",
       "      <td>0</td>\n",
       "      <td>0</td>\n",
       "      <td>0</td>\n",
       "      <td>0</td>\n",
       "      <td>1</td>\n",
       "      <td>0</td>\n",
       "      <td>0</td>\n",
       "      <td>0</td>\n",
       "      <td>0</td>\n",
       "    </tr>\n",
       "    <tr>\n",
       "      <th>5</th>\n",
       "      <td>64</td>\n",
       "      <td>130.0</td>\n",
       "      <td>303.0</td>\n",
       "      <td>122.0</td>\n",
       "      <td>2.0</td>\n",
       "      <td>1</td>\n",
       "      <td>0</td>\n",
       "      <td>1</td>\n",
       "      <td>0</td>\n",
       "      <td>0</td>\n",
       "      <td>...</td>\n",
       "      <td>0</td>\n",
       "      <td>0</td>\n",
       "      <td>1</td>\n",
       "      <td>0</td>\n",
       "      <td>0</td>\n",
       "      <td>0</td>\n",
       "      <td>0</td>\n",
       "      <td>1</td>\n",
       "      <td>0</td>\n",
       "      <td>0</td>\n",
       "    </tr>\n",
       "    <tr>\n",
       "      <th>7</th>\n",
       "      <td>58</td>\n",
       "      <td>130.0</td>\n",
       "      <td>251.0</td>\n",
       "      <td>110.0</td>\n",
       "      <td>0.0</td>\n",
       "      <td>0</td>\n",
       "      <td>1</td>\n",
       "      <td>0</td>\n",
       "      <td>1</td>\n",
       "      <td>0</td>\n",
       "      <td>...</td>\n",
       "      <td>1</td>\n",
       "      <td>0</td>\n",
       "      <td>0</td>\n",
       "      <td>0</td>\n",
       "      <td>0</td>\n",
       "      <td>0</td>\n",
       "      <td>1</td>\n",
       "      <td>0</td>\n",
       "      <td>0</td>\n",
       "      <td>0</td>\n",
       "    </tr>\n",
       "    <tr>\n",
       "      <th>8</th>\n",
       "      <td>42</td>\n",
       "      <td>150.0</td>\n",
       "      <td>268.0</td>\n",
       "      <td>136.0</td>\n",
       "      <td>0.0</td>\n",
       "      <td>0</td>\n",
       "      <td>1</td>\n",
       "      <td>0</td>\n",
       "      <td>1</td>\n",
       "      <td>0</td>\n",
       "      <td>...</td>\n",
       "      <td>1</td>\n",
       "      <td>0</td>\n",
       "      <td>0</td>\n",
       "      <td>0</td>\n",
       "      <td>0</td>\n",
       "      <td>1</td>\n",
       "      <td>0</td>\n",
       "      <td>0</td>\n",
       "      <td>0</td>\n",
       "      <td>0</td>\n",
       "    </tr>\n",
       "  </tbody>\n",
       "</table>\n",
       "<p>5 rows × 40 columns</p>\n",
       "</div>"
      ],
      "text/plain": [
       "   Age  Resting_Blood_Pressure  Serum_Cholestrol  Max-Heart_Rate_Achieved  \\\n",
       "2   54                   135.0             304.0                    170.0   \n",
       "3   48                   120.0             195.0                    125.0   \n",
       "5   64                   130.0             303.0                    122.0   \n",
       "7   58                   130.0             251.0                    110.0   \n",
       "8   42                   150.0             268.0                    136.0   \n",
       "\n",
       "   ST_Depression  Sex_Female  Sex_Male  Chest-Pain_Type_Asymptotic  \\\n",
       "2            0.0           1         0                           0   \n",
       "3            0.0           1         0                           0   \n",
       "5            2.0           1         0                           1   \n",
       "7            0.0           0         1                           0   \n",
       "8            0.0           0         1                           0   \n",
       "\n",
       "   Chest-Pain_Type_Atypical_Angina  Chest-Pain_Type_Non-Anginal_Pain  \\\n",
       "2                                0                                 1   \n",
       "3                                0                                 1   \n",
       "5                                0                                 0   \n",
       "7                                1                                 0   \n",
       "8                                1                                 0   \n",
       "\n",
       "        ...        Thal_?  Thal_fixed_defect  Thal_normal  \\\n",
       "2       ...             0                  0            1   \n",
       "3       ...             1                  0            0   \n",
       "5       ...             0                  0            1   \n",
       "7       ...             1                  0            0   \n",
       "8       ...             1                  0            0   \n",
       "\n",
       "   Thal_reversable_defect  Age_range_30 - 39  Age_range_40 - 49  \\\n",
       "2                       0                  0                  0   \n",
       "3                       0                  0                  1   \n",
       "5                       0                  0                  0   \n",
       "7                       0                  0                  0   \n",
       "8                       0                  0                  1   \n",
       "\n",
       "   Age_range_50 - 59  Age_range_60 - 69  Age_range_< 30  Age_range_> 70  \n",
       "2                  1                  0               0               0  \n",
       "3                  0                  0               0               0  \n",
       "5                  0                  1               0               0  \n",
       "7                  1                  0               0               0  \n",
       "8                  0                  0               0               0  \n",
       "\n",
       "[5 rows x 40 columns]"
      ]
     },
     "execution_count": 30,
     "metadata": {},
     "output_type": "execute_result"
    }
   ],
   "source": [
    "X_train_split.head()"
   ]
  },
  {
   "cell_type": "code",
   "execution_count": 31,
   "metadata": {},
   "outputs": [
    {
     "name": "stdout",
     "output_type": "stream",
     "text": [
      "['resting_ECG_?']\n",
      "[]\n"
     ]
    }
   ],
   "source": [
    "null_in_test = list(set(X_train_split.columns) - set(X_test_split.columns))\n",
    "null_in_train = list(set(X_test_split.columns) - set(X_train_split.columns))\n",
    "print(null_in_test)\n",
    "print(null_in_train)"
   ]
  },
  {
   "cell_type": "code",
   "execution_count": 32,
   "metadata": {},
   "outputs": [],
   "source": [
    "for col in null_in_test:\n",
    "    X_test_split[col] = 0\n",
    "    \n",
    "for col in null_in_train :\n",
    "    X_train_split[col] = 0"
   ]
  },
  {
   "cell_type": "markdown",
   "metadata": {},
   "source": [
    "### Modeling with ML"
   ]
  },
  {
   "cell_type": "code",
   "execution_count": 33,
   "metadata": {},
   "outputs": [],
   "source": [
    "from sklearn.metrics import accuracy_score"
   ]
  },
  {
   "cell_type": "markdown",
   "metadata": {},
   "source": [
    "#### KNN (K Nearest Neighbors)"
   ]
  },
  {
   "cell_type": "code",
   "execution_count": 34,
   "metadata": {},
   "outputs": [],
   "source": [
    "from sklearn.neighbors import KNeighborsClassifier"
   ]
  },
  {
   "cell_type": "code",
   "execution_count": 81,
   "metadata": {},
   "outputs": [],
   "source": [
    "error_rate = []\n",
    "error_min = 1\n",
    "min = 0\n",
    "for i in range(3,40):\n",
    "    knn_split = KNeighborsClassifier(n_neighbors=i)\n",
    "    knn_split.fit(X_train_split, y_train_split)\n",
    "    predict_knn_i_split = knn_split.predict(X_test_split)\n",
    "    error_rate.append(np.mean(predict_knn_i_split != y_test_split))\n",
    "    if(np.mean(predict_knn_i_split != y_test_split) < error_min):\n",
    "        error_min = np.mean(predict_knn_i_split != y_test_split)\n",
    "        min = i"
   ]
  },
  {
   "cell_type": "code",
   "execution_count": 83,
   "metadata": {},
   "outputs": [
    {
     "data": {
      "text/plain": [
       "Text(0, 0.5, 'Error Rate')"
      ]
     },
     "execution_count": 83,
     "metadata": {},
     "output_type": "execute_result"
    },
    {
     "data": {
      "image/png": "[encoded data removed]",
      "text/plain": [
       "<Figure size 720x288 with 1 Axes>"
      ]
     },
     "metadata": {},
     "output_type": "display_data"
    }
   ],
   "source": [
    "# Configure and plot error rate over k values\n",
    "plt.figure(figsize=(10,4))\n",
    "plt.plot(range(3,40), error_rate, color='blue', linestyle='dashed', marker='o', markerfacecolor='red', markersize=10)\n",
    "plt.title('Error Rate vs. K-Values')\n",
    "plt.xlabel('K-Values')\n",
    "plt.ylabel('Error Rate')"
   ]
  },
  {
   "cell_type": "code",
   "execution_count": 84,
   "metadata": {
    "scrolled": true
   },
   "outputs": [
    {
     "data": {
      "text/plain": [
       "KNeighborsClassifier(algorithm='auto', leaf_size=30, metric='minkowski',\n",
       "           metric_params=None, n_jobs=None, n_neighbors=3, p=2,\n",
       "           weights='uniform')"
      ]
     },
     "execution_count": 84,
     "metadata": {},
     "output_type": "execute_result"
    }
   ],
   "source": [
    "knn = KNeighborsClassifier(n_neighbors=min)\n",
    "knn.fit(X_train_split, y_train_split)"
   ]
  },
  {
   "cell_type": "code",
   "execution_count": 85,
   "metadata": {},
   "outputs": [
    {
     "name": "stdout",
     "output_type": "stream",
     "text": [
      "Nilai akurasi knn  :  0.7628205128205128\n"
     ]
    }
   ],
   "source": [
    "predict_knn = knn.predict(X_test_split)\n",
    "print('Nilai akurasi knn  : ', accuracy_score(y_test_split, predict_knn))"
   ]
  },
  {
   "cell_type": "code",
   "execution_count": 86,
   "metadata": {},
   "outputs": [
    {
     "data": {
      "text/plain": [
       "array([0, 0, 1, 3, 0, 1, 0, 1, 2, 1, 2, 3, 0, 3, 3, 0, 0, 0, 0, 4],\n",
       "      dtype=int64)"
      ]
     },
     "execution_count": 86,
     "metadata": {},
     "output_type": "execute_result"
    }
   ],
   "source": [
    "predict_knn[0:20]"
   ]
  },
  {
   "cell_type": "code",
   "execution_count": 87,
   "metadata": {},
   "outputs": [
    {
     "data": {
      "text/plain": [
       "500    0\n",
       "52     0\n",
       "443    1\n",
       "227    1\n",
       "441    0\n",
       "148    1\n",
       "649    0\n",
       "31     0\n",
       "370    2\n",
       "456    1\n",
       "752    2\n",
       "46     1\n",
       "732    0\n",
       "537    3\n",
       "736    3\n",
       "702    0\n",
       "547    0\n",
       "168    0\n",
       "135    0\n",
       "165    4\n",
       "Name: Diagnosis_HD, dtype: int64"
      ]
     },
     "execution_count": 87,
     "metadata": {},
     "output_type": "execute_result"
    }
   ],
   "source": [
    "y_test_split.head(20)"
   ]
  },
  {
   "cell_type": "code",
   "execution_count": 88,
   "metadata": {},
   "outputs": [
    {
     "data": {
      "text/plain": [
       "0.9106017191977077"
      ]
     },
     "execution_count": 88,
     "metadata": {},
     "output_type": "execute_result"
    }
   ],
   "source": [
    "knn.score(X_train_split ,y_train_split)"
   ]
  },
  {
   "cell_type": "code",
   "execution_count": 89,
   "metadata": {},
   "outputs": [
    {
     "data": {
      "text/plain": [
       "0.7628205128205128"
      ]
     },
     "execution_count": 89,
     "metadata": {},
     "output_type": "execute_result"
    }
   ],
   "source": [
    "knn.score(X_test_split, y_test_split)"
   ]
  },
  {
   "cell_type": "code",
   "execution_count": 90,
   "metadata": {},
   "outputs": [],
   "source": [
    "# Import classification report and confusion matrix to evaluate predictions\n",
    "from sklearn.metrics import classification_report, confusion_matrix"
   ]
  },
  {
   "cell_type": "code",
   "execution_count": 91,
   "metadata": {},
   "outputs": [
    {
     "name": "stdout",
     "output_type": "stream",
     "text": [
      "              precision    recall  f1-score   support\n",
      "\n",
      "           0       0.86      0.81      0.83        67\n",
      "           1       0.81      0.53      0.64        49\n",
      "           2       0.56      1.00      0.72        18\n",
      "           3       0.72      0.95      0.82        19\n",
      "           4       0.75      1.00      0.86         3\n",
      "\n",
      "   micro avg       0.76      0.76      0.76       156\n",
      "   macro avg       0.74      0.86      0.77       156\n",
      "weighted avg       0.79      0.76      0.76       156\n",
      "\n"
     ]
    }
   ],
   "source": [
    "print(classification_report(y_test_split, predict_knn))"
   ]
  },
  {
   "cell_type": "code",
   "execution_count": 92,
   "metadata": {},
   "outputs": [
    {
     "name": "stdout",
     "output_type": "stream",
     "text": [
      "[[54  6  4  3  0]\n",
      " [ 9 26  9  4  1]\n",
      " [ 0  0 18  0  0]\n",
      " [ 0  0  1 18  0]\n",
      " [ 0  0  0  0  3]]\n",
      "TP - True Positive 54\n",
      "FP - False Positive 6\n",
      "FN - False Negative 9\n",
      "TN - True Negative 26\n",
      "Accuracy Rate: 0.5128205128205128\n",
      "Misclassification Rate: 0.09615384615384616\n"
     ]
    }
   ],
   "source": [
    "# Print out confusion matrix\n",
    "cmat = confusion_matrix(y_test_split, predict_knn)\n",
    "print(cmat)\n",
    "print('TP - True Positive {}'.format(cmat[0,0]))\n",
    "print('FP - False Positive {}'.format(cmat[0,1]))\n",
    "print('FN - False Negative {}'.format(cmat[1,0]))\n",
    "print('TN - True Negative {}'.format(cmat[1,1]))\n",
    "print('Accuracy Rate: {}'.format(np.divide(np.sum([cmat[0,0],cmat[1,1]]),np.sum(cmat))))\n",
    "print('Misclassification Rate: {}'.format(np.divide(np.sum([cmat[0,1],cmat[1,0]]),np.sum(cmat))))"
   ]
  },
  {
   "cell_type": "markdown",
   "metadata": {},
   "source": [
    "## Predict Data Full Test"
   ]
  },
  {
   "cell_type": "code",
   "execution_count": 93,
   "metadata": {},
   "outputs": [],
   "source": [
    "X_train = pd.get_dummies(X_train)"
   ]
  },
  {
   "cell_type": "code",
   "execution_count": 97,
   "metadata": {},
   "outputs": [],
   "source": [
    "error_rate = []\n",
    "error_min = 1\n",
    "min = 0\n",
    "for i in range(3,40):\n",
    "    knn = KNeighborsClassifier(n_neighbors=i)\n",
    "    knn.fit(X_train, y_train)\n",
    "    predict_knn_i = knn.predict(X_test_split)\n",
    "    error_rate.append(np.mean(predict_knn_i != y_test_split))\n",
    "    if(np.mean(predict_knn_i_split != y_test_split) < error_min):\n",
    "        error_min = np.mean(predict_knn_i_split != y_test_split)\n",
    "        min = i"
   ]
  },
  {
   "cell_type": "code",
   "execution_count": 98,
   "metadata": {},
   "outputs": [
    {
     "data": {
      "text/plain": [
       "Text(0, 0.5, 'Error Rate')"
      ]
     },
     "execution_count": 98,
     "metadata": {},
     "output_type": "execute_result"
    },
    {
     "data": {
      "image/png": "[encoded data removed]",
      "text/plain": [
       "<Figure size 720x288 with 1 Axes>"
      ]
     },
     "metadata": {},
     "output_type": "display_data"
    }
   ],
   "source": [
    "# Configure and plot error rate over k values\n",
    "plt.figure(figsize=(10,4))\n",
    "plt.plot(range(3,40), error_rate, color='blue', linestyle='dashed', marker='o', markerfacecolor='red', markersize=10)\n",
    "plt.title('Error Rate vs. K-Values')\n",
    "plt.xlabel('K-Values')\n",
    "plt.ylabel('Error Rate')"
   ]
  },
  {
   "cell_type": "code",
   "execution_count": 99,
   "metadata": {},
   "outputs": [
    {
     "data": {
      "text/plain": [
       "KNeighborsClassifier(algorithm='auto', leaf_size=30, metric='minkowski',\n",
       "           metric_params=None, n_jobs=None, n_neighbors=3, p=2,\n",
       "           weights='uniform')"
      ]
     },
     "execution_count": 99,
     "metadata": {},
     "output_type": "execute_result"
    }
   ],
   "source": [
    "knn = KNeighborsClassifier(n_neighbors=min)\n",
    "knn.fit(X_train, y_train)"
   ]
  },
  {
   "cell_type": "markdown",
   "metadata": {},
   "source": [
    "## Create Model Joblib"
   ]
  },
  {
   "cell_type": "code",
   "execution_count": 100,
   "metadata": {},
   "outputs": [
    {
     "data": {
      "text/plain": [
       "['KNN_Model.joblib']"
      ]
     },
     "execution_count": 100,
     "metadata": {},
     "output_type": "execute_result"
    }
   ],
   "source": [
    "from sklearn.externals import joblib\n",
    "joblib.dump(knn,'KNN_Model.joblib')"
   ]
  },
  {
   "cell_type": "markdown",
   "metadata": {},
   "source": [
    "### Referensi"
   ]
  },
  {
   "cell_type": "markdown",
   "metadata": {},
   "source": [
    "https://medium.com/@kbrook10/day-11-machine-learning-using-knn-k-nearest-neighbors-with-scikit-learn-350c3a1402e6"
   ]
  },
  {
   "cell_type": "code",
   "execution_count": null,
   "metadata": {},
   "outputs": [],
   "source": []
  }
 ],
 "metadata": {
  "kernelspec": {
   "display_name": "Python 3",
   "language": "python",
   "name": "python3"
  },
  "language_info": {
   "codemirror_mode": {
    "name": "ipython",
    "version": 3
   },
   "file_extension": ".py",
   "mimetype": "text/x-python",
   "name": "python",
   "nbconvert_exporter": "python",
   "pygments_lexer": "ipython3",
   "version": "3.6.5"
  }
 },
 "nbformat": 4,
 "nbformat_minor": 2
}
